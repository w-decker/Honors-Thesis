{
 "cells": [
  {
   "cell_type": "markdown",
   "metadata": {},
   "source": [
    "# Event Segmentation Analysis\n",
    "\n",
    "The following notebook contains the formal analysis procedure for the hidden markov modeling of continuous fMRI data."
   ]
  },
  {
   "cell_type": "markdown",
   "metadata": {},
   "source": [
    "# Formal model fitting procedure\n",
    "\n",
    "As mentioned earlier, we are using `brainiak` to conduct our event segmentation analysis. This requires a separate `conda` environment"
   ]
  },
  {
   "cell_type": "code",
   "execution_count": 1,
   "metadata": {},
   "outputs": [],
   "source": [
    "from sklearn.model_selection import LeaveOneOut, KFold\n",
    "from brainiak.eventseg.event import EventSegment\n",
    "import numpy as np\n",
    "import pandas as pd\n",
    "from collections import namedtuple\n",
    "import matplotlib.pyplot as plt \n",
    "import seaborn as sns"
   ]
  },
  {
   "cell_type": "markdown",
   "metadata": {},
   "source": [
    "## Set up some variables"
   ]
  },
  {
   "cell_type": "code",
   "execution_count": 62,
   "metadata": {},
   "outputs": [],
   "source": [
    "# n_subs = len(data) # total subjects\n",
    "n_struct = len(roidata_masked[\"S\"]) # subjects in the structured group\n",
    "n_rand = len(roidata_masked[\"R\"]) # subjects in the random group\n",
    "n_splits_inner = 4\n",
    "subj_id_struct = np.array([i for i in range(n_struct)])\n",
    "subj_id_rand = np.array([i for i in range(n_rand)])"
   ]
  },
  {
   "cell_type": "markdown",
   "metadata": {},
   "source": [
    "## Begin nested cross validation for **structured**."
   ]
  },
  {
   "cell_type": "code",
   "execution_count": 35,
   "metadata": {},
   "outputs": [],
   "source": [
    "def tuneK(train_data, test_data, k_vals:np.ndarray):\n",
    "    \"\"\"Tune K inside fold\n",
    "    \n",
    "    Parameters\n",
    "    ----------\n",
    "    train_data\n",
    "        Training data, parsed by sklearn.model_selection.LeaveOneOut()\n",
    "    test_data\n",
    "        Test data, parsed by sklearn.model_selection.LeaveOneOut()    \n",
    "        \n",
    "    k_vals: np.ndarray\n",
    "        Numpy array which contains all possible k values\n",
    "    \"\"\"\n",
    "\n",
    "    log_likelihoods = np.zeros_like(k_vals)\n",
    "\n",
    "    # test all the K values\n",
    "    for i,K in enumerate(k_vals):\n",
    "\n",
    "        # instantiate\n",
    "        HMM = EventSegment(K)\n",
    "\n",
    "            # fit and get log likely hoods\n",
    "        HMM.fit(train_data)\n",
    "        _, ll = HMM.find_events(test_data)\n",
    "        log_likelihoods[i] = ll\n",
    "\n",
    "    # find the best K value\n",
    "    bestK = k_vals[np.argmax(log_likelihoods)]\n",
    "\n",
    "    print('Tuned on k')\n",
    "\n",
    "    return bestK, np.max(log_likelihoods)"
   ]
  },
  {
   "cell_type": "code",
   "execution_count": 36,
   "metadata": {},
   "outputs": [],
   "source": [
    "def innerLoop(n_splits: int, idx: np.ndarray, outer_train_idx:np.ndarray, data:np.ndarray, k_vals:np.ndarray) -> int:\n",
    "\n",
    "    # inner loop fold\n",
    "    subj_id_all_inner = idx[outer_train_idx]\n",
    "    kf = KFold(n_splits=n_splits)\n",
    "    kf.get_n_splits(outer_train_idx)\n",
    "\n",
    "    # track\n",
    "    out = []\n",
    "            \n",
    "    # run loop\n",
    "    for subj_id_train_inner, subj_id_test_inner in kf.split(subj_id_all_inner):\n",
    "\n",
    "        # format data\n",
    "        train_data = np.mean(data[subj_id_train_inner, :, :],axis=0)\n",
    "        test_data = np.mean(data[subj_id_test_inner, :, :], axis=0)\n",
    "\n",
    "        # # run inner loop\n",
    "        bestK, maxLL = tuneK(train_data=train_data, test_data=test_data, k_vals=k_vals)\n",
    "\n",
    "        # append to tracker\n",
    "        out.append((bestK, maxLL))\n",
    "\n",
    "        print('Fold complete')\n",
    "\n",
    "    # get best k\n",
    "    k = [i[0] for i in out]\n",
    "    ll = [i[1] for i in out]\n",
    "    best = k[np.argmax(ll)]\n",
    "\n",
    "    return int(best), out\n",
    "    "
   ]
  },
  {
   "cell_type": "code",
   "execution_count": 37,
   "metadata": {},
   "outputs": [],
   "source": [
    "def outerLoop(idx:np.ndarray, n_splits:int, data, k_vals:np.ndarray) -> pd.DataFrame:\n",
    "\n",
    "    print('Beginning\\n')\n",
    "    print('----------\\n')\n",
    "\n",
    "    # initialize dataframe\n",
    "    results = pd.DataFrame(columns=['subject', 'k', 'll'])\n",
    "\n",
    "    # set up loo\n",
    "    loo_outer = LeaveOneOut()\n",
    "    subj_id_struct = idx\n",
    "    loo_outer.get_n_splits(subj_id_struct)\n",
    "\n",
    "    for subj_id_train_outer, subj_id_test_outer in loo_outer.split(subj_id_struct):\n",
    "\n",
    "        # run inner loop\n",
    "        k2test, _ = innerLoop(n_splits=n_splits, outer_train_idx=subj_id_train_outer, data=data, k_vals=k_vals, idx=idx)\n",
    "\n",
    "        # test on outer subject\n",
    "        HMM = EventSegment(k2test)\n",
    "\n",
    "        # outer_test\n",
    "        outer_test_data = data[int(subj_id_test_outer[0]), :, :]\n",
    "\n",
    "        # fit and get log likely hoods\n",
    "        print(f'Fit to outer loop testing data\\n')\n",
    "        HMM.fit(outer_test_data)\n",
    "        _, ll = HMM.find_events(outer_test_data)\n",
    "\n",
    "        # aggregate values\n",
    "        out2 = [str(subj_id_test_outer), k2test, ll]\n",
    "\n",
    "        # append to dataframe\n",
    "        results.loc[len(results)] = out2\n",
    "\n",
    "    return results"
   ]
  },
  {
   "cell_type": "markdown",
   "metadata": {},
   "source": [
    "# Running and fitting model on `structured`"
   ]
  },
  {
   "cell_type": "code",
   "execution_count": 2,
   "metadata": {},
   "outputs": [],
   "source": [
    "idx = np.array([i for i in range(10)])\n",
    "strucdat = np.load(\"/data/jdecke5/projects/honors-thesis/data/eventseg/struc_masked_conf_data.npy\")\n",
    "randat = np.load(\"/data/jdecke5/projects/honors-thesis/data/eventseg/rand_masked_conf_data.npy\")\n",
    "k_vals = np.arange(3, 15, 1)"
   ]
  },
  {
   "cell_type": "code",
   "execution_count": 39,
   "metadata": {},
   "outputs": [
    {
     "name": "stdout",
     "output_type": "stream",
     "text": [
      "Beginning\n",
      "\n",
      "----------\n",
      "\n",
      "Tuned on k\n",
      "Fold complete\n",
      "Tuned on k\n",
      "Fold complete\n",
      "Tuned on k\n",
      "Fold complete\n",
      "Tuned on k\n",
      "Fold complete\n",
      "Fit to outer loop testing data\n",
      "\n",
      "Tuned on k\n",
      "Fold complete\n",
      "Tuned on k\n",
      "Fold complete\n",
      "Tuned on k\n",
      "Fold complete\n",
      "Tuned on k\n",
      "Fold complete\n",
      "Fit to outer loop testing data\n",
      "\n",
      "Tuned on k\n",
      "Fold complete\n",
      "Tuned on k\n",
      "Fold complete\n",
      "Tuned on k\n",
      "Fold complete\n",
      "Tuned on k\n",
      "Fold complete\n",
      "Fit to outer loop testing data\n",
      "\n",
      "Tuned on k\n",
      "Fold complete\n",
      "Tuned on k\n",
      "Fold complete\n",
      "Tuned on k\n",
      "Fold complete\n",
      "Tuned on k\n",
      "Fold complete\n",
      "Fit to outer loop testing data\n",
      "\n",
      "Tuned on k\n",
      "Fold complete\n",
      "Tuned on k\n",
      "Fold complete\n",
      "Tuned on k\n",
      "Fold complete\n",
      "Tuned on k\n",
      "Fold complete\n",
      "Fit to outer loop testing data\n",
      "\n",
      "Tuned on k\n",
      "Fold complete\n",
      "Tuned on k\n",
      "Fold complete\n",
      "Tuned on k\n",
      "Fold complete\n",
      "Tuned on k\n",
      "Fold complete\n",
      "Fit to outer loop testing data\n",
      "\n",
      "Tuned on k\n",
      "Fold complete\n",
      "Tuned on k\n",
      "Fold complete\n",
      "Tuned on k\n",
      "Fold complete\n",
      "Tuned on k\n",
      "Fold complete\n",
      "Fit to outer loop testing data\n",
      "\n",
      "Tuned on k\n",
      "Fold complete\n",
      "Tuned on k\n",
      "Fold complete\n",
      "Tuned on k\n",
      "Fold complete\n",
      "Tuned on k\n",
      "Fold complete\n",
      "Fit to outer loop testing data\n",
      "\n",
      "Tuned on k\n",
      "Fold complete\n",
      "Tuned on k\n",
      "Fold complete\n",
      "Tuned on k\n",
      "Fold complete\n",
      "Tuned on k\n",
      "Fold complete\n",
      "Fit to outer loop testing data\n",
      "\n",
      "Tuned on k\n",
      "Fold complete\n",
      "Tuned on k\n",
      "Fold complete\n",
      "Tuned on k\n",
      "Fold complete\n",
      "Tuned on k\n",
      "Fold complete\n",
      "Fit to outer loop testing data\n",
      "\n"
     ]
    }
   ],
   "source": [
    "ncv = outerLoop(idx=idx, n_splits=4, data=data, k_vals=k_vals)"
   ]
  },
  {
   "cell_type": "code",
   "execution_count": 98,
   "metadata": {},
   "outputs": [
    {
     "data": {
      "text/html": [
       "<div>\n",
       "<style scoped>\n",
       "    .dataframe tbody tr th:only-of-type {\n",
       "        vertical-align: middle;\n",
       "    }\n",
       "\n",
       "    .dataframe tbody tr th {\n",
       "        vertical-align: top;\n",
       "    }\n",
       "\n",
       "    .dataframe thead th {\n",
       "        text-align: right;\n",
       "    }\n",
       "</style>\n",
       "<table border=\"1\" class=\"dataframe\">\n",
       "  <thead>\n",
       "    <tr style=\"text-align: right;\">\n",
       "      <th></th>\n",
       "      <th>subject</th>\n",
       "      <th>k</th>\n",
       "      <th>ll</th>\n",
       "    </tr>\n",
       "  </thead>\n",
       "  <tbody>\n",
       "    <tr>\n",
       "      <th>0</th>\n",
       "      <td>[0]</td>\n",
       "      <td>2</td>\n",
       "      <td>-357.085501</td>\n",
       "    </tr>\n",
       "    <tr>\n",
       "      <th>1</th>\n",
       "      <td>[1]</td>\n",
       "      <td>2</td>\n",
       "      <td>-350.694417</td>\n",
       "    </tr>\n",
       "    <tr>\n",
       "      <th>2</th>\n",
       "      <td>[2]</td>\n",
       "      <td>2</td>\n",
       "      <td>-378.339772</td>\n",
       "    </tr>\n",
       "    <tr>\n",
       "      <th>3</th>\n",
       "      <td>[3]</td>\n",
       "      <td>2</td>\n",
       "      <td>-340.179648</td>\n",
       "    </tr>\n",
       "    <tr>\n",
       "      <th>4</th>\n",
       "      <td>[4]</td>\n",
       "      <td>2</td>\n",
       "      <td>-341.187614</td>\n",
       "    </tr>\n",
       "    <tr>\n",
       "      <th>5</th>\n",
       "      <td>[5]</td>\n",
       "      <td>2</td>\n",
       "      <td>-383.707811</td>\n",
       "    </tr>\n",
       "    <tr>\n",
       "      <th>6</th>\n",
       "      <td>[6]</td>\n",
       "      <td>2</td>\n",
       "      <td>-365.495508</td>\n",
       "    </tr>\n",
       "    <tr>\n",
       "      <th>7</th>\n",
       "      <td>[7]</td>\n",
       "      <td>2</td>\n",
       "      <td>-382.404924</td>\n",
       "    </tr>\n",
       "    <tr>\n",
       "      <th>8</th>\n",
       "      <td>[8]</td>\n",
       "      <td>2</td>\n",
       "      <td>-386.672820</td>\n",
       "    </tr>\n",
       "    <tr>\n",
       "      <th>9</th>\n",
       "      <td>[9]</td>\n",
       "      <td>2</td>\n",
       "      <td>-374.179878</td>\n",
       "    </tr>\n",
       "  </tbody>\n",
       "</table>\n",
       "</div>"
      ],
      "text/plain": [
       "  subject  k          ll\n",
       "0     [0]  2 -357.085501\n",
       "1     [1]  2 -350.694417\n",
       "2     [2]  2 -378.339772\n",
       "3     [3]  2 -340.179648\n",
       "4     [4]  2 -341.187614\n",
       "5     [5]  2 -383.707811\n",
       "6     [6]  2 -365.495508\n",
       "7     [7]  2 -382.404924\n",
       "8     [8]  2 -386.672820\n",
       "9     [9]  2 -374.179878"
      ]
     },
     "execution_count": 98,
     "metadata": {},
     "output_type": "execute_result"
    }
   ],
   "source": [
    "ncv"
   ]
  },
  {
   "cell_type": "markdown",
   "metadata": {},
   "source": [
    "# Running and fitting model on `random`"
   ]
  },
  {
   "cell_type": "code",
   "execution_count": 24,
   "metadata": {},
   "outputs": [],
   "source": [
    "idx2 = np.array([i for i in range(9)]) # change because uneven number of subjects\n",
    "data2 = roidata_masked[\"R\"]\n",
    "k_vals = np.arange(2, 15, 1)"
   ]
  },
  {
   "cell_type": "code",
   "execution_count": null,
   "metadata": {},
   "outputs": [],
   "source": [
    "ncv2 = outerLoop(idx=idx2, n_splits=4, data=data2, k_vals=k_vals)"
   ]
  },
  {
   "cell_type": "code",
   "execution_count": 104,
   "metadata": {},
   "outputs": [
    {
     "data": {
      "text/html": [
       "<div>\n",
       "<style scoped>\n",
       "    .dataframe tbody tr th:only-of-type {\n",
       "        vertical-align: middle;\n",
       "    }\n",
       "\n",
       "    .dataframe tbody tr th {\n",
       "        vertical-align: top;\n",
       "    }\n",
       "\n",
       "    .dataframe thead th {\n",
       "        text-align: right;\n",
       "    }\n",
       "</style>\n",
       "<table border=\"1\" class=\"dataframe\">\n",
       "  <thead>\n",
       "    <tr style=\"text-align: right;\">\n",
       "      <th></th>\n",
       "      <th>subject</th>\n",
       "      <th>k</th>\n",
       "      <th>ll</th>\n",
       "    </tr>\n",
       "  </thead>\n",
       "  <tbody>\n",
       "    <tr>\n",
       "      <th>0</th>\n",
       "      <td>[0]</td>\n",
       "      <td>2</td>\n",
       "      <td>-358.338709</td>\n",
       "    </tr>\n",
       "    <tr>\n",
       "      <th>1</th>\n",
       "      <td>[1]</td>\n",
       "      <td>2</td>\n",
       "      <td>-381.766007</td>\n",
       "    </tr>\n",
       "    <tr>\n",
       "      <th>2</th>\n",
       "      <td>[2]</td>\n",
       "      <td>2</td>\n",
       "      <td>-255.749219</td>\n",
       "    </tr>\n",
       "    <tr>\n",
       "      <th>3</th>\n",
       "      <td>[3]</td>\n",
       "      <td>2</td>\n",
       "      <td>-352.092198</td>\n",
       "    </tr>\n",
       "    <tr>\n",
       "      <th>4</th>\n",
       "      <td>[4]</td>\n",
       "      <td>2</td>\n",
       "      <td>-374.786666</td>\n",
       "    </tr>\n",
       "    <tr>\n",
       "      <th>5</th>\n",
       "      <td>[5]</td>\n",
       "      <td>2</td>\n",
       "      <td>-349.630398</td>\n",
       "    </tr>\n",
       "    <tr>\n",
       "      <th>6</th>\n",
       "      <td>[6]</td>\n",
       "      <td>2</td>\n",
       "      <td>-374.620954</td>\n",
       "    </tr>\n",
       "    <tr>\n",
       "      <th>7</th>\n",
       "      <td>[7]</td>\n",
       "      <td>2</td>\n",
       "      <td>-361.884130</td>\n",
       "    </tr>\n",
       "    <tr>\n",
       "      <th>8</th>\n",
       "      <td>[8]</td>\n",
       "      <td>2</td>\n",
       "      <td>-366.958553</td>\n",
       "    </tr>\n",
       "  </tbody>\n",
       "</table>\n",
       "</div>"
      ],
      "text/plain": [
       "  subject  k          ll\n",
       "0     [0]  2 -358.338709\n",
       "1     [1]  2 -381.766007\n",
       "2     [2]  2 -255.749219\n",
       "3     [3]  2 -352.092198\n",
       "4     [4]  2 -374.786666\n",
       "5     [5]  2 -349.630398\n",
       "6     [6]  2 -374.620954\n",
       "7     [7]  2 -361.884130\n",
       "8     [8]  2 -366.958553"
      ]
     },
     "execution_count": 104,
     "metadata": {},
     "output_type": "execute_result"
    }
   ],
   "source": [
    "ncv2"
   ]
  },
  {
   "cell_type": "markdown",
   "metadata": {},
   "source": [
    "# Notes from 04/04\n",
    "\n",
    "- Make model fit to list of subject's data\n",
    "- Make inner loop test on one subject"
   ]
  },
  {
   "cell_type": "code",
   "execution_count": 89,
   "metadata": {},
   "outputs": [],
   "source": [
    "def eventseg(data, idx:np.ndarray, k_vals:np.ndarray, n_splits:int, n_TR:int, split:bool=True, verbose:bool=False, concat:bool=False):\n",
    "\n",
    "    # print\n",
    "    if verbose:\n",
    "        print()\n",
    "        print('Running: Leave-one-out nested cross validation')\n",
    "        print('----------------------------------------------\\n')\n",
    "\n",
    "    # some variables needed\n",
    "    outer = LeaveOneOut()\n",
    "    best_k = np.zeros_like(idx)\n",
    "    best_ll = np.zeros((len(idx), len(idx)))\n",
    "    ll_outer = np.zeros_like(idx)\n",
    "    events = np.zeros((len(idx), n_TR))\n",
    "    loglik = np.zeros((len(idx),len(idx),len(k_vals)))\n",
    "    all_ll = np.zeros((n_splits,len(k_vals)))\n",
    "\n",
    "    # start outer loop\n",
    "    for outer_train_idx, outer_test_idx, in outer.split(idx):\n",
    "\n",
    "        # print\n",
    "        if verbose:\n",
    "            print(\"Outer:\\tTrain:\", outer_train_idx, \"Test:\", outer_test_idx)\n",
    "\n",
    "        # set up inner loop variables\n",
    "        inner_idx = idx[outer_train_idx]\n",
    "        kf = KFold(n_splits=n_splits)\n",
    "        kf.get_n_splits(outer_train_idx)\n",
    "        jj = 0 # update variable\n",
    "\n",
    "        # print\n",
    "        if verbose:\n",
    "            print('\\nInner:')\n",
    "\n",
    "        # start inner loop\n",
    "        for inner_train_idx, inner_test_idx in kf.split(inner_idx):\n",
    "\n",
    "            # parse data by splits (is this redundant?)\n",
    "            inner_train_idx = inner_idx[inner_train_idx]\n",
    "            inner_test_idx = inner_idx[inner_test_idx]\n",
    "\n",
    "            # subset data\n",
    "            data_train = data[inner_train_idx]\n",
    "            data_val = data[inner_test_idx]\n",
    "            data_test = np.squeeze(data[outer_test_idx], axis=0)\n",
    "        \n",
    "            # print\n",
    "            if verbose:\n",
    "                print(\"-Train:\", inner_train_idx,\"Validate:\", inner_test_idx)\n",
    "\n",
    "            # begin loop to tune K\n",
    "            for i, k in enumerate(k_vals):\n",
    "\n",
    "                # instantiate EventSegment class\n",
    "                if split:\n",
    "                    HMM = EventSegment(n_events=k, split_merge=True)\n",
    "                else:\n",
    "                    HMM = EventSegment(n_events=k)\n",
    "\n",
    "                # fit\n",
    "                if concat:\n",
    "                    HMM.fit(data_train.mean(0))\n",
    "                else:\n",
    "                    data_train_list = []\n",
    "                    for i in range(len(data_train)):\n",
    "                        data_train_list.append(data_train[i, :, :])\n",
    "                        \n",
    "                    HMM.fit(data_train_list)\n",
    "\n",
    "                # test\n",
    "                _, ll, = HMM.find_events(data_val.mean(0))\n",
    "\n",
    "                # store ll\n",
    "                loglik[outer_test_idx,jj,i] = ll\n",
    "\n",
    "            # update other trackers\n",
    "            all_ll[jj,:]=loglik[outer_test_idx,jj,:] # all log-likelihoods\n",
    "            best_ll[outer_test_idx, jj] = np.max(loglik[outer_test_idx,jj,:]) # best log-likelihood\n",
    "            jj += 1\n",
    "\n",
    "        # update more trackers\n",
    "        mean_ll = np.mean(all_ll, axis=0) # mean of log-likelihood\n",
    "        fill = mean_ll.argsort() # sort by log-likelihood value\n",
    "        fill = fill[len(k_vals)-1] # find best K\n",
    "        best_k[outer_test_idx] = k_vals[fill] # store best K for test\n",
    "\n",
    "        # instantiate EventSegment class\n",
    "        if split:\n",
    "            HMM = EventSegment(n_events=k, split_merge=True)\n",
    "        else:\n",
    "            HMM = EventSegment(n_events=k)\n",
    "\n",
    "        # test and find events\n",
    "        HMM.fit(data_test)\n",
    "        _, ll = HMM.find_events(data_test)\n",
    "        ll_outer[outer_test_idx] = np.max(HMM.ll_)\n",
    "        events[outer_test_idx, :] = np.argmax(HMM.segments_[0], axis=1)\n",
    "\n",
    "    if verbose:\n",
    "        print(\"\\nDone!\")\n",
    "\n",
    "    return {\"Best_k\": best_k, \"events\": events, \"Best_LL\":best_ll, \"LL\":loglik}"
   ]
  },
  {
   "cell_type": "code",
   "execution_count": 90,
   "metadata": {},
   "outputs": [
    {
     "name": "stdout",
     "output_type": "stream",
     "text": [
      "\n",
      "Running: Leave-one-out nested cross validation\n",
      "----------------------------------------------\n",
      "\n",
      "Outer:\tTrain: [1 2 3 4 5 6 7 8 9] Test: [0]\n",
      "Inner:\n",
      "-Train: [4 5 6 7 8 9] Validate: [1 2 3] , now try different k...\n",
      "-Train: [1 2 3 6 7 8 9] Validate: [4 5] , now try different k...\n",
      "-Train: [1 2 3 4 5 8 9] Validate: [6 7] , now try different k...\n",
      "-Train: [1 2 3 4 5 6 7] Validate: [8 9] , now try different k...\n",
      "Outer:\tTrain: [0 2 3 4 5 6 7 8 9] Test: [1]\n",
      "Inner:\n",
      "-Train: [4 5 6 7 8 9] Validate: [0 2 3] , now try different k...\n",
      "-Train: [0 2 3 6 7 8 9] Validate: [4 5] , now try different k...\n",
      "-Train: [0 2 3 4 5 8 9] Validate: [6 7] , now try different k...\n",
      "-Train: [0 2 3 4 5 6 7] Validate: [8 9] , now try different k...\n",
      "Outer:\tTrain: [0 1 3 4 5 6 7 8 9] Test: [2]\n",
      "Inner:\n",
      "-Train: [4 5 6 7 8 9] Validate: [0 1 3] , now try different k...\n",
      "-Train: [0 1 3 6 7 8 9] Validate: [4 5] , now try different k...\n",
      "-Train: [0 1 3 4 5 8 9] Validate: [6 7] , now try different k...\n",
      "-Train: [0 1 3 4 5 6 7] Validate: [8 9] , now try different k...\n",
      "Outer:\tTrain: [0 1 2 4 5 6 7 8 9] Test: [3]\n",
      "Inner:\n",
      "-Train: [4 5 6 7 8 9] Validate: [0 1 2] , now try different k...\n",
      "-Train: [0 1 2 6 7 8 9] Validate: [4 5] , now try different k...\n",
      "-Train: [0 1 2 4 5 8 9] Validate: [6 7] , now try different k...\n",
      "-Train: [0 1 2 4 5 6 7] Validate: [8 9] , now try different k...\n",
      "Outer:\tTrain: [0 1 2 3 5 6 7 8 9] Test: [4]\n",
      "Inner:\n",
      "-Train: [3 5 6 7 8 9] Validate: [0 1 2] , now try different k...\n",
      "-Train: [0 1 2 6 7 8 9] Validate: [3 5] , now try different k...\n",
      "-Train: [0 1 2 3 5 8 9] Validate: [6 7] , now try different k...\n",
      "-Train: [0 1 2 3 5 6 7] Validate: [8 9] , now try different k...\n",
      "Outer:\tTrain: [0 1 2 3 4 6 7 8 9] Test: [5]\n",
      "Inner:\n",
      "-Train: [3 4 6 7 8 9] Validate: [0 1 2] , now try different k...\n",
      "-Train: [0 1 2 6 7 8 9] Validate: [3 4] , now try different k...\n",
      "-Train: [0 1 2 3 4 8 9] Validate: [6 7] , now try different k...\n",
      "-Train: [0 1 2 3 4 6 7] Validate: [8 9] , now try different k...\n",
      "Outer:\tTrain: [0 1 2 3 4 5 7 8 9] Test: [6]\n",
      "Inner:\n",
      "-Train: [3 4 5 7 8 9] Validate: [0 1 2] , now try different k...\n",
      "-Train: [0 1 2 5 7 8 9] Validate: [3 4] , now try different k...\n",
      "-Train: [0 1 2 3 4 8 9] Validate: [5 7] , now try different k...\n",
      "-Train: [0 1 2 3 4 5 7] Validate: [8 9] , now try different k...\n",
      "Outer:\tTrain: [0 1 2 3 4 5 6 8 9] Test: [7]\n",
      "Inner:\n",
      "-Train: [3 4 5 6 8 9] Validate: [0 1 2] , now try different k...\n",
      "-Train: [0 1 2 5 6 8 9] Validate: [3 4] , now try different k...\n",
      "-Train: [0 1 2 3 4 8 9] Validate: [5 6] , now try different k...\n",
      "-Train: [0 1 2 3 4 5 6] Validate: [8 9] , now try different k...\n",
      "Outer:\tTrain: [0 1 2 3 4 5 6 7 9] Test: [8]\n",
      "Inner:\n",
      "-Train: [3 4 5 6 7 9] Validate: [0 1 2] , now try different k...\n",
      "-Train: [0 1 2 5 6 7 9] Validate: [3 4] , now try different k...\n",
      "-Train: [0 1 2 3 4 7 9] Validate: [5 6] , now try different k...\n",
      "-Train: [0 1 2 3 4 5 6] Validate: [7 9] , now try different k...\n",
      "Outer:\tTrain: [0 1 2 3 4 5 6 7 8] Test: [9]\n",
      "Inner:\n",
      "-Train: [3 4 5 6 7 8] Validate: [0 1 2] , now try different k...\n",
      "-Train: [0 1 2 5 6 7 8] Validate: [3 4] , now try different k...\n",
      "-Train: [0 1 2 3 4 7 8] Validate: [5 6] , now try different k...\n",
      "-Train: [0 1 2 3 4 5 6] Validate: [7 8] , now try different k...\n",
      "\n",
      "Done!\n"
     ]
    }
   ],
   "source": [
    "idx = np.arange(len(strucdat))\n",
    "OUT = eventseg(data=strucdat, idx=idx, k_vals=k_vals, n_splits=4, n_TR=240, split=True, verbose=True, concat=True)"
   ]
  },
  {
   "cell_type": "code",
   "execution_count": 102,
   "metadata": {},
   "outputs": [
    {
     "data": {
      "text/plain": [
       "array([ 3,  4,  5,  6,  7,  8,  9, 10, 11, 12, 13, 14])"
      ]
     },
     "execution_count": 102,
     "metadata": {},
     "output_type": "execute_result"
    }
   ],
   "source": [
    "k_vals"
   ]
  },
  {
   "cell_type": "code",
   "execution_count": 91,
   "metadata": {},
   "outputs": [
    {
     "data": {
      "text/plain": [
       "{'Best_k': array([ 9,  6, 10,  9, 10, 10,  6, 10, 10,  8]),\n",
       " 'events': array([[ 0.,  0.,  0., ..., 13., 13., 13.],\n",
       "        [ 0.,  0.,  0., ..., 13., 13., 13.],\n",
       "        [ 0.,  0.,  0., ..., 13., 13., 13.],\n",
       "        ...,\n",
       "        [ 0.,  0.,  0., ..., 13., 13., 13.],\n",
       "        [ 0.,  0.,  0., ..., 13., 13., 13.],\n",
       "        [ 0.,  0.,  0., ..., 13., 13., 13.]]),\n",
       " 'Best_LL': array([[-419.01785533, -419.89908048, -420.79155967, -419.84979594,\n",
       "            0.        ,    0.        ,    0.        ,    0.        ,\n",
       "            0.        ,    0.        ],\n",
       "        [-418.98432544, -420.73410902, -421.23285197, -419.93947085,\n",
       "            0.        ,    0.        ,    0.        ,    0.        ,\n",
       "            0.        ,    0.        ],\n",
       "        [-420.81080022, -420.8676811 , -421.26974003, -420.43793417,\n",
       "            0.        ,    0.        ,    0.        ,    0.        ,\n",
       "            0.        ,    0.        ],\n",
       "        [-421.01169209, -420.55071478, -420.68158348, -418.32202603,\n",
       "            0.        ,    0.        ,    0.        ,    0.        ,\n",
       "            0.        ,    0.        ],\n",
       "        [-419.67194461, -416.99520094, -421.1575441 , -420.71006093,\n",
       "            0.        ,    0.        ,    0.        ,    0.        ,\n",
       "            0.        ,    0.        ],\n",
       "        [-420.2373659 , -415.99279797, -421.35578101, -420.36511653,\n",
       "            0.        ,    0.        ,    0.        ,    0.        ,\n",
       "            0.        ,    0.        ],\n",
       "        [-420.11676395, -417.69203486, -420.70884595, -421.08371056,\n",
       "            0.        ,    0.        ,    0.        ,    0.        ,\n",
       "            0.        ,    0.        ],\n",
       "        [-418.50160677, -417.16106632, -419.0147092 , -419.5781641 ,\n",
       "            0.        ,    0.        ,    0.        ,    0.        ,\n",
       "            0.        ,    0.        ],\n",
       "        [-419.19993712, -415.78005412, -419.70839829, -419.23685223,\n",
       "            0.        ,    0.        ,    0.        ,    0.        ,\n",
       "            0.        ,    0.        ],\n",
       "        [-420.09118977, -417.87199514, -420.26007002, -419.79168871,\n",
       "            0.        ,    0.        ,    0.        ,    0.        ,\n",
       "            0.        ,    0.        ]]),\n",
       " 'LL': array([[[-420.9901311 , -421.1179793 , -419.71850028, ...,\n",
       "          -419.01785533, -419.58372807, -420.37898114],\n",
       "         [-421.77292964, -421.32763091, -420.52597774, ...,\n",
       "          -421.47762511, -423.91130708, -423.28281441],\n",
       "         [-421.60523308, -421.13297014, -421.31803856, ...,\n",
       "          -422.88919455, -421.96731749, -422.92588138],\n",
       "         ...,\n",
       "         [   0.        ,    0.        ,    0.        , ...,\n",
       "             0.        ,    0.        ,    0.        ],\n",
       "         [   0.        ,    0.        ,    0.        , ...,\n",
       "             0.        ,    0.        ,    0.        ],\n",
       "         [   0.        ,    0.        ,    0.        , ...,\n",
       "             0.        ,    0.        ,    0.        ]],\n",
       " \n",
       "        [[-420.64647213, -420.97993802, -419.54107702, ...,\n",
       "          -420.84759666, -421.35447493, -421.89718893],\n",
       "         [-421.76861629, -421.31841651, -421.02951448, ...,\n",
       "          -422.65861532, -423.65297651, -424.85929287],\n",
       "         [-421.58761286, -421.23285197, -421.48836056, ...,\n",
       "          -423.87804643, -424.94167538, -425.75653332],\n",
       "         ...,\n",
       "         [   0.        ,    0.        ,    0.        , ...,\n",
       "             0.        ,    0.        ,    0.        ],\n",
       "         [   0.        ,    0.        ,    0.        , ...,\n",
       "             0.        ,    0.        ,    0.        ],\n",
       "         [   0.        ,    0.        ,    0.        , ...,\n",
       "             0.        ,    0.        ,    0.        ]],\n",
       " \n",
       "        [[-422.21229287, -422.25811134, -421.47913309, ...,\n",
       "          -423.38462131, -424.17556911, -424.5048317 ],\n",
       "         [-421.87026666, -421.61286132, -421.13025267, ...,\n",
       "          -423.15586711, -424.12908395, -424.21572129],\n",
       "         [-421.64263843, -421.2769308 , -421.26974003, ...,\n",
       "          -422.84304416, -422.47103789, -423.55336214],\n",
       "         ...,\n",
       "         [   0.        ,    0.        ,    0.        , ...,\n",
       "             0.        ,    0.        ,    0.        ],\n",
       "         [   0.        ,    0.        ,    0.        , ...,\n",
       "             0.        ,    0.        ,    0.        ],\n",
       "         [   0.        ,    0.        ,    0.        , ...,\n",
       "             0.        ,    0.        ,    0.        ]],\n",
       " \n",
       "        ...,\n",
       " \n",
       "        [[-421.71025217, -421.3692538 , -421.06396388, ...,\n",
       "          -419.77459808, -420.07538379, -420.16167548],\n",
       "         [-421.39807314, -420.36136019, -420.01148603, ...,\n",
       "          -417.41081661, -418.21265251, -418.46460488],\n",
       "         [-420.74664463, -419.94880292, -420.1474499 , ...,\n",
       "          -420.48598611, -421.57772876, -422.98045257],\n",
       "         ...,\n",
       "         [   0.        ,    0.        ,    0.        , ...,\n",
       "             0.        ,    0.        ,    0.        ],\n",
       "         [   0.        ,    0.        ,    0.        , ...,\n",
       "             0.        ,    0.        ,    0.        ],\n",
       "         [   0.        ,    0.        ,    0.        , ...,\n",
       "             0.        ,    0.        ,    0.        ]],\n",
       " \n",
       "        [[-421.64468671, -420.82550829, -420.0206458 , ...,\n",
       "          -421.97260344, -421.06454229, -422.07558222],\n",
       "         [-421.83672048, -420.50872728, -419.1875424 , ...,\n",
       "          -418.71670999, -416.6143614 , -417.43649988],\n",
       "         [-421.88650474, -419.96099754, -420.13441599, ...,\n",
       "          -420.51419775, -420.02942354, -421.67043603],\n",
       "         ...,\n",
       "         [   0.        ,    0.        ,    0.        , ...,\n",
       "             0.        ,    0.        ,    0.        ],\n",
       "         [   0.        ,    0.        ,    0.        , ...,\n",
       "             0.        ,    0.        ,    0.        ],\n",
       "         [   0.        ,    0.        ,    0.        , ...,\n",
       "             0.        ,    0.        ,    0.        ]],\n",
       " \n",
       "        [[-421.31950711, -421.44301217, -420.97721806, ...,\n",
       "          -420.17181304, -420.90405113, -420.09118977],\n",
       "         [-421.65962531, -421.06877854, -419.7134416 , ...,\n",
       "          -418.46798602, -418.40626887, -420.1688388 ],\n",
       "         [-422.05517987, -420.63832858, -420.59430484, ...,\n",
       "          -422.79599807, -421.5577754 , -423.23965331],\n",
       "         ...,\n",
       "         [   0.        ,    0.        ,    0.        , ...,\n",
       "             0.        ,    0.        ,    0.        ],\n",
       "         [   0.        ,    0.        ,    0.        , ...,\n",
       "             0.        ,    0.        ,    0.        ],\n",
       "         [   0.        ,    0.        ,    0.        , ...,\n",
       "             0.        ,    0.        ,    0.        ]]])}"
      ]
     },
     "execution_count": 91,
     "metadata": {},
     "output_type": "execute_result"
    }
   ],
   "source": [
    "OUT"
   ]
  },
  {
   "cell_type": "code",
   "execution_count": 101,
   "metadata": {},
   "outputs": [
    {
     "data": {
      "text/plain": [
       "<matplotlib.image.AxesImage at 0x7f1df3417810>"
      ]
     },
     "execution_count": 101,
     "metadata": {},
     "output_type": "execute_result"
    },
    {
     "data": {
      "image/png": "[encoded data removed]",
      "text/plain": [
       "<Figure size 640x480 with 1 Axes>"
      ]
     },
     "metadata": {},
     "output_type": "display_data"
    }
   ],
   "source": [
    "plt.imshow(OUT[\"events\"][:, :], aspect='auto')"
   ]
  },
  {
   "cell_type": "code",
   "execution_count": 107,
   "metadata": {},
   "outputs": [
    {
     "data": {
      "text/plain": [
       "array([ 9,  6, 10,  9, 10, 10,  6, 10, 10,  8])"
      ]
     },
     "execution_count": 107,
     "metadata": {},
     "output_type": "execute_result"
    }
   ],
   "source": [
    "OUT[\"Best_k\"]"
   ]
  },
  {
   "cell_type": "code",
   "execution_count": 108,
   "metadata": {},
   "outputs": [
    {
     "name": "stdout",
     "output_type": "stream",
     "text": [
      "\n",
      "Running: Leave-one-out nested cross validation\n",
      "----------------------------------------------\n",
      "\n",
      "Outer:\tTrain: [1 2 3 4 5 6 7 8] Test: [0]\n",
      "Inner:\n",
      "-Train: [3 4 5 6 7 8] Validate: [1 2] , now try different k...\n",
      "-Train: [1 2 5 6 7 8] Validate: [3 4] , now try different k...\n",
      "-Train: [1 2 3 4 7 8] Validate: [5 6] , now try different k...\n",
      "-Train: [1 2 3 4 5 6] Validate: [7 8] , now try different k...\n",
      "Outer:\tTrain: [0 2 3 4 5 6 7 8] Test: [1]\n",
      "Inner:\n",
      "-Train: [3 4 5 6 7 8] Validate: [0 2] , now try different k...\n",
      "-Train: [0 2 5 6 7 8] Validate: [3 4] , now try different k...\n",
      "-Train: [0 2 3 4 7 8] Validate: [5 6] , now try different k...\n",
      "-Train: [0 2 3 4 5 6] Validate: [7 8] , now try different k...\n",
      "Outer:\tTrain: [0 1 3 4 5 6 7 8] Test: [2]\n",
      "Inner:\n",
      "-Train: [3 4 5 6 7 8] Validate: [0 1] , now try different k...\n",
      "-Train: [0 1 5 6 7 8] Validate: [3 4] , now try different k...\n",
      "-Train: [0 1 3 4 7 8] Validate: [5 6] , now try different k...\n",
      "-Train: [0 1 3 4 5 6] Validate: [7 8] , now try different k...\n",
      "Outer:\tTrain: [0 1 2 4 5 6 7 8] Test: [3]\n",
      "Inner:\n",
      "-Train: [2 4 5 6 7 8] Validate: [0 1] , now try different k...\n",
      "-Train: [0 1 5 6 7 8] Validate: [2 4] , now try different k...\n",
      "-Train: [0 1 2 4 7 8] Validate: [5 6] , now try different k...\n",
      "-Train: [0 1 2 4 5 6] Validate: [7 8] , now try different k...\n",
      "Outer:\tTrain: [0 1 2 3 5 6 7 8] Test: [4]\n",
      "Inner:\n",
      "-Train: [2 3 5 6 7 8] Validate: [0 1] , now try different k...\n",
      "-Train: [0 1 5 6 7 8] Validate: [2 3] , now try different k...\n",
      "-Train: [0 1 2 3 7 8] Validate: [5 6] , now try different k...\n",
      "-Train: [0 1 2 3 5 6] Validate: [7 8] , now try different k...\n",
      "Outer:\tTrain: [0 1 2 3 4 6 7 8] Test: [5]\n",
      "Inner:\n",
      "-Train: [2 3 4 6 7 8] Validate: [0 1] , now try different k...\n",
      "-Train: [0 1 4 6 7 8] Validate: [2 3] , now try different k...\n",
      "-Train: [0 1 2 3 7 8] Validate: [4 6] , now try different k...\n",
      "-Train: [0 1 2 3 4 6] Validate: [7 8] , now try different k...\n",
      "Outer:\tTrain: [0 1 2 3 4 5 7 8] Test: [6]\n",
      "Inner:\n",
      "-Train: [2 3 4 5 7 8] Validate: [0 1] , now try different k...\n",
      "-Train: [0 1 4 5 7 8] Validate: [2 3] , now try different k...\n",
      "-Train: [0 1 2 3 7 8] Validate: [4 5] , now try different k...\n",
      "-Train: [0 1 2 3 4 5] Validate: [7 8] , now try different k...\n",
      "Outer:\tTrain: [0 1 2 3 4 5 6 8] Test: [7]\n",
      "Inner:\n",
      "-Train: [2 3 4 5 6 8] Validate: [0 1] , now try different k...\n",
      "-Train: [0 1 4 5 6 8] Validate: [2 3] , now try different k...\n",
      "-Train: [0 1 2 3 6 8] Validate: [4 5] , now try different k...\n",
      "-Train: [0 1 2 3 4 5] Validate: [6 8] , now try different k...\n",
      "Outer:\tTrain: [0 1 2 3 4 5 6 7] Test: [8]\n",
      "Inner:\n",
      "-Train: [2 3 4 5 6 7] Validate: [0 1] , now try different k...\n",
      "-Train: [0 1 4 5 6 7] Validate: [2 3] , now try different k...\n",
      "-Train: [0 1 2 3 6 7] Validate: [4 5] , now try different k...\n",
      "-Train: [0 1 2 3 4 5] Validate: [6 7] , now try different k...\n",
      "\n",
      "Done!\n"
     ]
    }
   ],
   "source": [
    "RANDOUT = eventseg(data=randat, idx=np.arange(len(randat)), k_vals=np.arange(3, 15, 1), n_splits=4, n_TR=240, verbose=True, concat=True)"
   ]
  },
  {
   "cell_type": "code",
   "execution_count": 109,
   "metadata": {},
   "outputs": [
    {
     "data": {
      "text/plain": [
       "array([8, 8, 7, 8, 6, 9, 8, 9, 9])"
      ]
     },
     "execution_count": 109,
     "metadata": {},
     "output_type": "execute_result"
    }
   ],
   "source": [
    "RANDOUT[\"Best_k\"]"
   ]
  },
  {
   "cell_type": "code",
   "execution_count": 110,
   "metadata": {},
   "outputs": [
    {
     "data": {
      "text/plain": [
       "<matplotlib.image.AxesImage at 0x7f1df33a84d0>"
      ]
     },
     "execution_count": 110,
     "metadata": {},
     "output_type": "execute_result"
    },
    {
     "data": {
      "image/png": "[encoded data removed]",
      "text/plain": [
       "<Figure size 640x480 with 1 Axes>"
      ]
     },
     "metadata": {},
     "output_type": "display_data"
    }
   ],
   "source": [
    "plt.imshow(RANDOUT[\"events\"], aspect='auto')"
   ]
  },
  {
   "cell_type": "code",
   "execution_count": 4,
   "metadata": {},
   "outputs": [
    {
     "data": {
      "image/png": "[encoded data removed]",
      "text/plain": [
       "<Figure size 1100x500 with 2 Axes>"
      ]
     },
     "metadata": {},
     "output_type": "display_data"
    }
   ],
   "source": [
    "fig, ax = plt.subplots(nrows=2, figsize=(11, 5))\n",
    "\n",
    "# fig.set_facecolor((236/255, 232/255, 232/255))\n",
    "\n",
    "ax[0].imshow(OUT[\"events\"], aspect='auto', cmap='coolwarm')\n",
    "ax[0].set_title(f'Structure, mean k = {round(np.mean(OUT[\"Best_k\"]), 0)}')\n",
    "ax[0].set_ylabel('Subject')\n",
    "ax[0].set_xlabel('Time')\n",
    "\n",
    "ax[1].imshow(RANDOUT[\"events\"], aspect='auto', cmap='coolwarm')\n",
    "ax[1].set_title(f'No structure, mean k = {round(np.mean(RANDOUT[\"Best_k\"]), 0)}')\n",
    "ax[1].set_ylabel('Subject')\n",
    "ax[1].set_xlabel('Time')\n",
    "ax[1].set_facecolor(\"violet\")\n",
    "\n",
    "plt.subplots_adjust(hspace=0.5)\n",
    "\n",
    "plt.savefig('/data/jdecke5/projects/honors-thesis/data/eventseg/allevents_4paper.png', dpi=800, bbox_inches='tight')"
   ]
  },
  {
   "cell_type": "code",
   "execution_count": 115,
   "metadata": {},
   "outputs": [
    {
     "name": "stdout",
     "output_type": "stream",
     "text": [
      "9.0\n",
      "\n",
      "8.0\n"
     ]
    }
   ],
   "source": [
    "print(round(np.mean(OUT[\"Best_k\"]), 0))\n",
    "print()\n",
    "print(np.mean(RANDOUT[\"Best_k\"]))"
   ]
  },
  {
   "cell_type": "code",
   "execution_count": 116,
   "metadata": {},
   "outputs": [
    {
     "data": {
      "text/plain": [
       "(10, 240, 48)"
      ]
     },
     "execution_count": 116,
     "metadata": {},
     "output_type": "execute_result"
    }
   ],
   "source": [
    "strucdat.shape"
   ]
  },
  {
   "cell_type": "code",
   "execution_count": 6,
   "metadata": {},
   "outputs": [],
   "source": [
    "from scipy.stats import pearsonr"
   ]
  },
  {
   "cell_type": "code",
   "execution_count": null,
   "metadata": {},
   "outputs": [],
   "source": [
    "np.save(\"/data/jdecke5/projects/honors-thesis/data/eventseg/structured_0407.npy\", OUT, allow_pickle=True)\n",
    "np.save(\"/data/jdecke5/projects/honors-thesis/data/eventseg/rand_0407.npy\", RANDOUT, allow_pickle=True)"
   ]
  },
  {
   "cell_type": "code",
   "execution_count": 8,
   "metadata": {},
   "outputs": [],
   "source": [
    "OUT = np.load(\"/data/jdecke5/projects/honors-thesis/data/eventseg/structured_0407.npy\", allow_pickle=True)[()]\n",
    "RANDOUT = np.load(\"/data/jdecke5/projects/honors-thesis/data/eventseg/rand_0407.npy\", allow_pickle=True)[()]"
   ]
  },
  {
   "cell_type": "markdown",
   "metadata": {},
   "source": [
    "# Testing boundaries for structured"
   ]
  },
  {
   "cell_type": "code",
   "execution_count": 20,
   "metadata": {},
   "outputs": [
    {
     "data": {
      "text/plain": [
       "9.0"
      ]
     },
     "execution_count": 20,
     "metadata": {},
     "output_type": "execute_result"
    }
   ],
   "source": [
    "round(OUT['Best_k'].mean(), 0)"
   ]
  },
  {
   "cell_type": "code",
   "execution_count": 10,
   "metadata": {},
   "outputs": [
    {
     "name": "stderr",
     "output_type": "stream",
     "text": [
      "/data/.conda/envs/brainiak_env/lib/python3.7/site-packages/ipykernel_launcher.py:29: DeprecationWarning: `np.int` is a deprecated alias for the builtin `int`. To silence this warning, use `int` by itself. Doing this will not modify any behavior and is safe. When replacing `np.int`, you may wish to use e.g. `np.int64` or `np.int32` to specify the precision. If you wish to review your current use, check the release note link for additional information.\n",
      "Deprecated in NumPy 1.20; for more details and guidance: https://numpy.org/devdocs/release/1.20.0-notes.html#deprecations\n"
     ]
    },
    {
     "name": "stdout",
     "output_type": "stream",
     "text": [
      "Subj 1: within vs across = 0.016537209330038716\n"
     ]
    },
    {
     "name": "stderr",
     "output_type": "stream",
     "text": [
      "/data/.conda/envs/brainiak_env/lib/python3.7/site-packages/ipykernel_launcher.py:29: DeprecationWarning: `np.int` is a deprecated alias for the builtin `int`. To silence this warning, use `int` by itself. Doing this will not modify any behavior and is safe. When replacing `np.int`, you may wish to use e.g. `np.int64` or `np.int32` to specify the precision. If you wish to review your current use, check the release note link for additional information.\n",
      "Deprecated in NumPy 1.20; for more details and guidance: https://numpy.org/devdocs/release/1.20.0-notes.html#deprecations\n"
     ]
    },
    {
     "name": "stdout",
     "output_type": "stream",
     "text": [
      "Subj 2: within vs across = -0.05844798122314064\n"
     ]
    },
    {
     "name": "stderr",
     "output_type": "stream",
     "text": [
      "/data/.conda/envs/brainiak_env/lib/python3.7/site-packages/ipykernel_launcher.py:29: DeprecationWarning: `np.int` is a deprecated alias for the builtin `int`. To silence this warning, use `int` by itself. Doing this will not modify any behavior and is safe. When replacing `np.int`, you may wish to use e.g. `np.int64` or `np.int32` to specify the precision. If you wish to review your current use, check the release note link for additional information.\n",
      "Deprecated in NumPy 1.20; for more details and guidance: https://numpy.org/devdocs/release/1.20.0-notes.html#deprecations\n"
     ]
    },
    {
     "name": "stdout",
     "output_type": "stream",
     "text": [
      "Subj 3: within vs across = 0.06014917537962958\n"
     ]
    },
    {
     "name": "stderr",
     "output_type": "stream",
     "text": [
      "/data/.conda/envs/brainiak_env/lib/python3.7/site-packages/ipykernel_launcher.py:29: DeprecationWarning: `np.int` is a deprecated alias for the builtin `int`. To silence this warning, use `int` by itself. Doing this will not modify any behavior and is safe. When replacing `np.int`, you may wish to use e.g. `np.int64` or `np.int32` to specify the precision. If you wish to review your current use, check the release note link for additional information.\n",
      "Deprecated in NumPy 1.20; for more details and guidance: https://numpy.org/devdocs/release/1.20.0-notes.html#deprecations\n"
     ]
    },
    {
     "name": "stdout",
     "output_type": "stream",
     "text": [
      "Subj 4: within vs across = -0.020486149304303404\n"
     ]
    },
    {
     "name": "stderr",
     "output_type": "stream",
     "text": [
      "/data/.conda/envs/brainiak_env/lib/python3.7/site-packages/ipykernel_launcher.py:29: DeprecationWarning: `np.int` is a deprecated alias for the builtin `int`. To silence this warning, use `int` by itself. Doing this will not modify any behavior and is safe. When replacing `np.int`, you may wish to use e.g. `np.int64` or `np.int32` to specify the precision. If you wish to review your current use, check the release note link for additional information.\n",
      "Deprecated in NumPy 1.20; for more details and guidance: https://numpy.org/devdocs/release/1.20.0-notes.html#deprecations\n"
     ]
    },
    {
     "name": "stdout",
     "output_type": "stream",
     "text": [
      "Subj 5: within vs across = 0.029780136368682236\n"
     ]
    },
    {
     "name": "stderr",
     "output_type": "stream",
     "text": [
      "/data/.conda/envs/brainiak_env/lib/python3.7/site-packages/ipykernel_launcher.py:29: DeprecationWarning: `np.int` is a deprecated alias for the builtin `int`. To silence this warning, use `int` by itself. Doing this will not modify any behavior and is safe. When replacing `np.int`, you may wish to use e.g. `np.int64` or `np.int32` to specify the precision. If you wish to review your current use, check the release note link for additional information.\n",
      "Deprecated in NumPy 1.20; for more details and guidance: https://numpy.org/devdocs/release/1.20.0-notes.html#deprecations\n"
     ]
    },
    {
     "name": "stdout",
     "output_type": "stream",
     "text": [
      "Subj 6: within vs across = 0.06911010305784179\n"
     ]
    },
    {
     "name": "stderr",
     "output_type": "stream",
     "text": [
      "/data/.conda/envs/brainiak_env/lib/python3.7/site-packages/ipykernel_launcher.py:29: DeprecationWarning: `np.int` is a deprecated alias for the builtin `int`. To silence this warning, use `int` by itself. Doing this will not modify any behavior and is safe. When replacing `np.int`, you may wish to use e.g. `np.int64` or `np.int32` to specify the precision. If you wish to review your current use, check the release note link for additional information.\n",
      "Deprecated in NumPy 1.20; for more details and guidance: https://numpy.org/devdocs/release/1.20.0-notes.html#deprecations\n"
     ]
    },
    {
     "name": "stdout",
     "output_type": "stream",
     "text": [
      "Subj 7: within vs across = -0.023309117866153382\n"
     ]
    },
    {
     "name": "stderr",
     "output_type": "stream",
     "text": [
      "/data/.conda/envs/brainiak_env/lib/python3.7/site-packages/ipykernel_launcher.py:29: DeprecationWarning: `np.int` is a deprecated alias for the builtin `int`. To silence this warning, use `int` by itself. Doing this will not modify any behavior and is safe. When replacing `np.int`, you may wish to use e.g. `np.int64` or `np.int32` to specify the precision. If you wish to review your current use, check the release note link for additional information.\n",
      "Deprecated in NumPy 1.20; for more details and guidance: https://numpy.org/devdocs/release/1.20.0-notes.html#deprecations\n"
     ]
    },
    {
     "name": "stdout",
     "output_type": "stream",
     "text": [
      "Subj 8: within vs across = 0.07071180684696454\n"
     ]
    },
    {
     "name": "stderr",
     "output_type": "stream",
     "text": [
      "/data/.conda/envs/brainiak_env/lib/python3.7/site-packages/ipykernel_launcher.py:29: DeprecationWarning: `np.int` is a deprecated alias for the builtin `int`. To silence this warning, use `int` by itself. Doing this will not modify any behavior and is safe. When replacing `np.int`, you may wish to use e.g. `np.int64` or `np.int32` to specify the precision. If you wish to review your current use, check the release note link for additional information.\n",
      "Deprecated in NumPy 1.20; for more details and guidance: https://numpy.org/devdocs/release/1.20.0-notes.html#deprecations\n"
     ]
    },
    {
     "name": "stdout",
     "output_type": "stream",
     "text": [
      "Subj 9: within vs across = -0.08422448938750066\n",
      "Subj 10: within vs across = -0.08124604383301966\n"
     ]
    },
    {
     "name": "stderr",
     "output_type": "stream",
     "text": [
      "/data/.conda/envs/brainiak_env/lib/python3.7/site-packages/ipykernel_launcher.py:29: DeprecationWarning: `np.int` is a deprecated alias for the builtin `int`. To silence this warning, use `int` by itself. Doing this will not modify any behavior and is safe. When replacing `np.int`, you may wish to use e.g. `np.int64` or `np.int32` to specify the precision. If you wish to review your current use, check the release note link for additional information.\n",
      "Deprecated in NumPy 1.20; for more details and guidance: https://numpy.org/devdocs/release/1.20.0-notes.html#deprecations\n"
     ]
    }
   ],
   "source": [
    "k = int(round(OUT['Best_k'].mean(), 0))\n",
    "w = 5  # window size\n",
    "nPerm = 1000\n",
    "nSubj = 10\n",
    "nTR = 240\n",
    "\n",
    "\n",
    "within_across = np.zeros((nSubj, nPerm+1))\n",
    "for left_out in range(nSubj):\n",
    "    # Fit to all but one subject\n",
    "    ev = EventSegment(k)\n",
    "    ev.fit(strucdat[np.arange(nSubj) != left_out, :, :].mean(0))\n",
    "    events = np.argmax(ev.segments_[0], axis=1)\n",
    "\n",
    "    # Compute correlations separated by w in time\n",
    "    corrs = np.zeros(nTR-w)\n",
    "    for t in range(nTR-w):\n",
    "        corrs[t] = pearsonr(strucdat[left_out, t, :],strucdat[left_out,t+w,:])[0]\n",
    "    _, event_lengths = np.unique(events, return_counts=True)\n",
    "\n",
    "    # Compute within vs across boundary correlations, for real and permuted bounds\n",
    "    np.random.seed(0)\n",
    "    for p in range(nPerm+1):\n",
    "        within = corrs[events[:-w] == events[w:]].mean()\n",
    "        across = corrs[events[:-w] != events[w:]].mean()\n",
    "        within_across[left_out, p] = within - across\n",
    "        # \n",
    "        perm_lengths = np.random.permutation(event_lengths)\n",
    "        events = np.zeros(nTR, dtype=np.int)\n",
    "        events[np.cumsum(perm_lengths[:-1])] = 1\n",
    "        events = np.cumsum(events)\n",
    "    print('Subj ' + str(left_out+1) + ': within vs across = ' + str(within_across[left_out,0]))"
   ]
  },
  {
   "cell_type": "code",
   "execution_count": 11,
   "metadata": {},
   "outputs": [
    {
     "data": {
      "image/png": "[encoded data removed]",
      "text/plain": [
       "<Figure size 500x500 with 1 Axes>"
      ]
     },
     "metadata": {},
     "output_type": "display_data"
    }
   ],
   "source": [
    "plt.figure(figsize=(5,5))\n",
    "\n",
    "\n",
    "plt.violinplot(within_across[:,1:].mean(0), showextrema=False)\n",
    "plt.scatter(1, within_across[:,0].mean(0), label=f'r = {round(within_across[:,0].mean(0), 3)}')\n",
    "plt.legend()\n",
    "plt.gca().xaxis.set_visible(False)\n",
    "\n",
    "# plt.gcf().set_facecolor((236/255, 232/255, 232/255))\n",
    "# plt.gca().set_facecolor((236/255, 232/255, 232/255))\n",
    "\n",
    "plt.ylabel('Within vs across boundary correlation')\n",
    "plt.savefig('/data/jdecke5/projects/honors-thesis/data/eventseg/struc_comparison_4paper.png', dpi=800, bbox_inches='tight')"
   ]
  },
  {
   "cell_type": "code",
   "execution_count": 53,
   "metadata": {},
   "outputs": [
    {
     "data": {
      "text/plain": [
       "-0.002142535063096089"
      ]
     },
     "execution_count": 53,
     "metadata": {},
     "output_type": "execute_result"
    }
   ],
   "source": [
    "within_across[:,0].mean(0)"
   ]
  },
  {
   "cell_type": "code",
   "execution_count": 41,
   "metadata": {},
   "outputs": [],
   "source": [
    "mevent = OUT[\"events\"]"
   ]
  },
  {
   "cell_type": "code",
   "execution_count": 42,
   "metadata": {},
   "outputs": [
    {
     "data": {
      "text/plain": [
       "[<matplotlib.lines.Line2D at 0x7f7bb1e22910>,\n",
       " <matplotlib.lines.Line2D at 0x7f7bb1e13b90>,\n",
       " <matplotlib.lines.Line2D at 0x7f7bb1e22c10>,\n",
       " <matplotlib.lines.Line2D at 0x7f7bb1e22d10>,\n",
       " <matplotlib.lines.Line2D at 0x7f7bb1e22e10>,\n",
       " <matplotlib.lines.Line2D at 0x7f7bb1e22e50>,\n",
       " <matplotlib.lines.Line2D at 0x7f7bb1e22f90>,\n",
       " <matplotlib.lines.Line2D at 0x7f7bb1e0a850>,\n",
       " <matplotlib.lines.Line2D at 0x7f7bb1e22d50>,\n",
       " <matplotlib.lines.Line2D at 0x7f7bb1e22f50>,\n",
       " <matplotlib.lines.Line2D at 0x7f7bb1e22a50>,\n",
       " <matplotlib.lines.Line2D at 0x7f7bb1dae410>,\n",
       " <matplotlib.lines.Line2D at 0x7f7bb1dae510>,\n",
       " <matplotlib.lines.Line2D at 0x7f7bb1dae610>,\n",
       " <matplotlib.lines.Line2D at 0x7f7bb1dae710>,\n",
       " <matplotlib.lines.Line2D at 0x7f7bb1dae810>,\n",
       " <matplotlib.lines.Line2D at 0x7f7bb1dae910>,\n",
       " <matplotlib.lines.Line2D at 0x7f7bb1daea10>,\n",
       " <matplotlib.lines.Line2D at 0x7f7bb1daeb10>,\n",
       " <matplotlib.lines.Line2D at 0x7f7bb1daec10>,\n",
       " <matplotlib.lines.Line2D at 0x7f7bb1daed10>,\n",
       " <matplotlib.lines.Line2D at 0x7f7bb1daee10>,\n",
       " <matplotlib.lines.Line2D at 0x7f7bb1daef10>,\n",
       " <matplotlib.lines.Line2D at 0x7f7bb1daef50>,\n",
       " <matplotlib.lines.Line2D at 0x7f7bb1dba150>,\n",
       " <matplotlib.lines.Line2D at 0x7f7bb1dba250>,\n",
       " <matplotlib.lines.Line2D at 0x7f7bb1dba350>,\n",
       " <matplotlib.lines.Line2D at 0x7f7bb1dba450>,\n",
       " <matplotlib.lines.Line2D at 0x7f7bb1dba550>,\n",
       " <matplotlib.lines.Line2D at 0x7f7bb1dba650>,\n",
       " <matplotlib.lines.Line2D at 0x7f7bb1dba750>,\n",
       " <matplotlib.lines.Line2D at 0x7f7bb1dba850>,\n",
       " <matplotlib.lines.Line2D at 0x7f7bb1dba950>,\n",
       " <matplotlib.lines.Line2D at 0x7f7bb1dbaa50>,\n",
       " <matplotlib.lines.Line2D at 0x7f7bb1dbab50>,\n",
       " <matplotlib.lines.Line2D at 0x7f7bb1dbac50>,\n",
       " <matplotlib.lines.Line2D at 0x7f7bb1dbad50>,\n",
       " <matplotlib.lines.Line2D at 0x7f7bb1dbae50>,\n",
       " <matplotlib.lines.Line2D at 0x7f7bb1dbaf50>,\n",
       " <matplotlib.lines.Line2D at 0x7f7bb1dbaf90>,\n",
       " <matplotlib.lines.Line2D at 0x7f7bb1dc3190>,\n",
       " <matplotlib.lines.Line2D at 0x7f7bb1dc3290>,\n",
       " <matplotlib.lines.Line2D at 0x7f7bb1dc3390>,\n",
       " <matplotlib.lines.Line2D at 0x7f7bb1dc3490>,\n",
       " <matplotlib.lines.Line2D at 0x7f7bb1dc3590>,\n",
       " <matplotlib.lines.Line2D at 0x7f7bb1dc3690>,\n",
       " <matplotlib.lines.Line2D at 0x7f7bb1dc3790>,\n",
       " <matplotlib.lines.Line2D at 0x7f7bb1dc3890>,\n",
       " <matplotlib.lines.Line2D at 0x7f7bb1dc3990>,\n",
       " <matplotlib.lines.Line2D at 0x7f7bb1dc3a90>,\n",
       " <matplotlib.lines.Line2D at 0x7f7bb1dc3b90>,\n",
       " <matplotlib.lines.Line2D at 0x7f7bb1dc3c90>,\n",
       " <matplotlib.lines.Line2D at 0x7f7bb1dc3d90>,\n",
       " <matplotlib.lines.Line2D at 0x7f7bb1dc3e90>,\n",
       " <matplotlib.lines.Line2D at 0x7f7bb1dc3f90>,\n",
       " <matplotlib.lines.Line2D at 0x7f7bb1dc3fd0>,\n",
       " <matplotlib.lines.Line2D at 0x7f7bb1dcd1d0>,\n",
       " <matplotlib.lines.Line2D at 0x7f7bb1dcd2d0>,\n",
       " <matplotlib.lines.Line2D at 0x7f7bb1dcd3d0>,\n",
       " <matplotlib.lines.Line2D at 0x7f7bb1dcd4d0>,\n",
       " <matplotlib.lines.Line2D at 0x7f7bb1dcd5d0>,\n",
       " <matplotlib.lines.Line2D at 0x7f7bb1dcd6d0>,\n",
       " <matplotlib.lines.Line2D at 0x7f7bb1dcd7d0>,\n",
       " <matplotlib.lines.Line2D at 0x7f7bb1dcd8d0>,\n",
       " <matplotlib.lines.Line2D at 0x7f7bb1dcd9d0>,\n",
       " <matplotlib.lines.Line2D at 0x7f7bb1dcdad0>,\n",
       " <matplotlib.lines.Line2D at 0x7f7bb1dcdbd0>,\n",
       " <matplotlib.lines.Line2D at 0x7f7bb1dcdcd0>,\n",
       " <matplotlib.lines.Line2D at 0x7f7bb1dcddd0>,\n",
       " <matplotlib.lines.Line2D at 0x7f7bb1dcded0>,\n",
       " <matplotlib.lines.Line2D at 0x7f7bb1dcdfd0>,\n",
       " <matplotlib.lines.Line2D at 0x7f7bb1dd6110>,\n",
       " <matplotlib.lines.Line2D at 0x7f7bb1dd6210>,\n",
       " <matplotlib.lines.Line2D at 0x7f7bb1dd6310>,\n",
       " <matplotlib.lines.Line2D at 0x7f7bb1dd6410>,\n",
       " <matplotlib.lines.Line2D at 0x7f7bb1dd6510>,\n",
       " <matplotlib.lines.Line2D at 0x7f7bb1dd6610>,\n",
       " <matplotlib.lines.Line2D at 0x7f7bb1dd6710>,\n",
       " <matplotlib.lines.Line2D at 0x7f7bb1dd6810>,\n",
       " <matplotlib.lines.Line2D at 0x7f7bb1dd6910>,\n",
       " <matplotlib.lines.Line2D at 0x7f7bb1dd6a10>,\n",
       " <matplotlib.lines.Line2D at 0x7f7bb1dd6b10>,\n",
       " <matplotlib.lines.Line2D at 0x7f7bb1dd6c10>,\n",
       " <matplotlib.lines.Line2D at 0x7f7bb1dd6d10>,\n",
       " <matplotlib.lines.Line2D at 0x7f7bb1dd6e10>,\n",
       " <matplotlib.lines.Line2D at 0x7f7bb1dd6f10>,\n",
       " <matplotlib.lines.Line2D at 0x7f7bb1dd6f50>,\n",
       " <matplotlib.lines.Line2D at 0x7f7bb1de0150>,\n",
       " <matplotlib.lines.Line2D at 0x7f7bb1de0250>,\n",
       " <matplotlib.lines.Line2D at 0x7f7bb1de0350>,\n",
       " <matplotlib.lines.Line2D at 0x7f7bb1de0450>,\n",
       " <matplotlib.lines.Line2D at 0x7f7bb1de0550>,\n",
       " <matplotlib.lines.Line2D at 0x7f7bb1de0650>,\n",
       " <matplotlib.lines.Line2D at 0x7f7bb1de0750>,\n",
       " <matplotlib.lines.Line2D at 0x7f7bb1de0850>,\n",
       " <matplotlib.lines.Line2D at 0x7f7bb1de0950>,\n",
       " <matplotlib.lines.Line2D at 0x7f7bb1de0a50>,\n",
       " <matplotlib.lines.Line2D at 0x7f7bb1de0b50>,\n",
       " <matplotlib.lines.Line2D at 0x7f7bb1de0c50>,\n",
       " <matplotlib.lines.Line2D at 0x7f7bb1de0d50>,\n",
       " <matplotlib.lines.Line2D at 0x7f7bb1de0e50>,\n",
       " <matplotlib.lines.Line2D at 0x7f7bb1de0f50>,\n",
       " <matplotlib.lines.Line2D at 0x7f7bb1de0f90>,\n",
       " <matplotlib.lines.Line2D at 0x7f7bb1de9190>,\n",
       " <matplotlib.lines.Line2D at 0x7f7bb1de9290>,\n",
       " <matplotlib.lines.Line2D at 0x7f7bb1de9390>,\n",
       " <matplotlib.lines.Line2D at 0x7f7bb1de9490>,\n",
       " <matplotlib.lines.Line2D at 0x7f7bb1de9590>,\n",
       " <matplotlib.lines.Line2D at 0x7f7bb1de9690>,\n",
       " <matplotlib.lines.Line2D at 0x7f7bb1de9790>,\n",
       " <matplotlib.lines.Line2D at 0x7f7bb1de9890>,\n",
       " <matplotlib.lines.Line2D at 0x7f7bb1de9990>,\n",
       " <matplotlib.lines.Line2D at 0x7f7bb1de9a90>,\n",
       " <matplotlib.lines.Line2D at 0x7f7bb1de9b90>,\n",
       " <matplotlib.lines.Line2D at 0x7f7bb1de9c90>,\n",
       " <matplotlib.lines.Line2D at 0x7f7bb1de9d90>,\n",
       " <matplotlib.lines.Line2D at 0x7f7bb1de9e90>,\n",
       " <matplotlib.lines.Line2D at 0x7f7bb1de9f90>,\n",
       " <matplotlib.lines.Line2D at 0x7f7bb1de9fd0>,\n",
       " <matplotlib.lines.Line2D at 0x7f7bb1d731d0>,\n",
       " <matplotlib.lines.Line2D at 0x7f7bb1d732d0>,\n",
       " <matplotlib.lines.Line2D at 0x7f7bb1d733d0>,\n",
       " <matplotlib.lines.Line2D at 0x7f7bb1d734d0>,\n",
       " <matplotlib.lines.Line2D at 0x7f7bb1d735d0>,\n",
       " <matplotlib.lines.Line2D at 0x7f7bb1d736d0>,\n",
       " <matplotlib.lines.Line2D at 0x7f7bb1d737d0>,\n",
       " <matplotlib.lines.Line2D at 0x7f7bb1d738d0>,\n",
       " <matplotlib.lines.Line2D at 0x7f7bb1d739d0>,\n",
       " <matplotlib.lines.Line2D at 0x7f7bb1d73ad0>,\n",
       " <matplotlib.lines.Line2D at 0x7f7bb1d73bd0>,\n",
       " <matplotlib.lines.Line2D at 0x7f7bb1d73cd0>,\n",
       " <matplotlib.lines.Line2D at 0x7f7bb1d73dd0>,\n",
       " <matplotlib.lines.Line2D at 0x7f7bb1d73ed0>,\n",
       " <matplotlib.lines.Line2D at 0x7f7bb1d73fd0>,\n",
       " <matplotlib.lines.Line2D at 0x7f7bb1d7d110>,\n",
       " <matplotlib.lines.Line2D at 0x7f7bb1d7d210>,\n",
       " <matplotlib.lines.Line2D at 0x7f7bb1d7d310>,\n",
       " <matplotlib.lines.Line2D at 0x7f7bb1d7d410>,\n",
       " <matplotlib.lines.Line2D at 0x7f7bb1d7d510>,\n",
       " <matplotlib.lines.Line2D at 0x7f7bb1d7d610>,\n",
       " <matplotlib.lines.Line2D at 0x7f7bb1d7d710>,\n",
       " <matplotlib.lines.Line2D at 0x7f7bb1d7d810>,\n",
       " <matplotlib.lines.Line2D at 0x7f7bb1d7d910>,\n",
       " <matplotlib.lines.Line2D at 0x7f7bb1d7da10>,\n",
       " <matplotlib.lines.Line2D at 0x7f7bb1d7db10>,\n",
       " <matplotlib.lines.Line2D at 0x7f7bb1d7dc10>,\n",
       " <matplotlib.lines.Line2D at 0x7f7bb1d7dd10>,\n",
       " <matplotlib.lines.Line2D at 0x7f7bb1d7de10>,\n",
       " <matplotlib.lines.Line2D at 0x7f7bb1d7df10>,\n",
       " <matplotlib.lines.Line2D at 0x7f7bb1d7df50>,\n",
       " <matplotlib.lines.Line2D at 0x7f7bb1d88150>,\n",
       " <matplotlib.lines.Line2D at 0x7f7bb1d88250>,\n",
       " <matplotlib.lines.Line2D at 0x7f7bb1d88350>,\n",
       " <matplotlib.lines.Line2D at 0x7f7bb1d88450>,\n",
       " <matplotlib.lines.Line2D at 0x7f7bb1d88550>,\n",
       " <matplotlib.lines.Line2D at 0x7f7bb1d88650>,\n",
       " <matplotlib.lines.Line2D at 0x7f7bb1d88750>,\n",
       " <matplotlib.lines.Line2D at 0x7f7bb1d88850>,\n",
       " <matplotlib.lines.Line2D at 0x7f7bb1d88950>,\n",
       " <matplotlib.lines.Line2D at 0x7f7bb1d88a50>,\n",
       " <matplotlib.lines.Line2D at 0x7f7bb1d88b50>,\n",
       " <matplotlib.lines.Line2D at 0x7f7bb1d88c50>,\n",
       " <matplotlib.lines.Line2D at 0x7f7bb1d88d50>,\n",
       " <matplotlib.lines.Line2D at 0x7f7bb1d88e50>,\n",
       " <matplotlib.lines.Line2D at 0x7f7bb1d88f50>,\n",
       " <matplotlib.lines.Line2D at 0x7f7bb1d88f90>,\n",
       " <matplotlib.lines.Line2D at 0x7f7bb1d90190>,\n",
       " <matplotlib.lines.Line2D at 0x7f7bb1d90290>,\n",
       " <matplotlib.lines.Line2D at 0x7f7bb1d90390>,\n",
       " <matplotlib.lines.Line2D at 0x7f7bb1d90490>,\n",
       " <matplotlib.lines.Line2D at 0x7f7bb1d90590>,\n",
       " <matplotlib.lines.Line2D at 0x7f7bb1d90690>,\n",
       " <matplotlib.lines.Line2D at 0x7f7bb1d90790>,\n",
       " <matplotlib.lines.Line2D at 0x7f7bb1d90890>,\n",
       " <matplotlib.lines.Line2D at 0x7f7bb1d90990>,\n",
       " <matplotlib.lines.Line2D at 0x7f7bb1d90a90>,\n",
       " <matplotlib.lines.Line2D at 0x7f7bb1d90b90>,\n",
       " <matplotlib.lines.Line2D at 0x7f7bb1d90c90>,\n",
       " <matplotlib.lines.Line2D at 0x7f7bb1d90d90>,\n",
       " <matplotlib.lines.Line2D at 0x7f7bb1d90e90>,\n",
       " <matplotlib.lines.Line2D at 0x7f7bb1d90f90>,\n",
       " <matplotlib.lines.Line2D at 0x7f7bb1d90fd0>,\n",
       " <matplotlib.lines.Line2D at 0x7f7bb1d9a1d0>,\n",
       " <matplotlib.lines.Line2D at 0x7f7bb1d9a2d0>,\n",
       " <matplotlib.lines.Line2D at 0x7f7bb1d9a3d0>,\n",
       " <matplotlib.lines.Line2D at 0x7f7bb1d9a4d0>,\n",
       " <matplotlib.lines.Line2D at 0x7f7bb1d9a5d0>,\n",
       " <matplotlib.lines.Line2D at 0x7f7bb1d9a6d0>,\n",
       " <matplotlib.lines.Line2D at 0x7f7bb1d9a7d0>,\n",
       " <matplotlib.lines.Line2D at 0x7f7bb1d9a8d0>,\n",
       " <matplotlib.lines.Line2D at 0x7f7bb1d9a9d0>,\n",
       " <matplotlib.lines.Line2D at 0x7f7bb1d9aad0>,\n",
       " <matplotlib.lines.Line2D at 0x7f7bb1d9abd0>,\n",
       " <matplotlib.lines.Line2D at 0x7f7bb1d9acd0>,\n",
       " <matplotlib.lines.Line2D at 0x7f7bb1d9add0>,\n",
       " <matplotlib.lines.Line2D at 0x7f7bb1d9aed0>,\n",
       " <matplotlib.lines.Line2D at 0x7f7bb1d9afd0>,\n",
       " <matplotlib.lines.Line2D at 0x7f7bb1da4110>,\n",
       " <matplotlib.lines.Line2D at 0x7f7bb1da4210>,\n",
       " <matplotlib.lines.Line2D at 0x7f7bb1da4310>,\n",
       " <matplotlib.lines.Line2D at 0x7f7bb1da4410>,\n",
       " <matplotlib.lines.Line2D at 0x7f7bb1da4510>,\n",
       " <matplotlib.lines.Line2D at 0x7f7bb1da4610>,\n",
       " <matplotlib.lines.Line2D at 0x7f7bb1da4710>,\n",
       " <matplotlib.lines.Line2D at 0x7f7bb1da4810>,\n",
       " <matplotlib.lines.Line2D at 0x7f7bb1da4910>,\n",
       " <matplotlib.lines.Line2D at 0x7f7bb1da4a10>,\n",
       " <matplotlib.lines.Line2D at 0x7f7bb1da4b10>,\n",
       " <matplotlib.lines.Line2D at 0x7f7bb1da4c10>,\n",
       " <matplotlib.lines.Line2D at 0x7f7bb1da4d10>,\n",
       " <matplotlib.lines.Line2D at 0x7f7bb1da4e10>,\n",
       " <matplotlib.lines.Line2D at 0x7f7bb1da4f10>,\n",
       " <matplotlib.lines.Line2D at 0x7f7bb1da4f50>,\n",
       " <matplotlib.lines.Line2D at 0x7f7bb1d2e150>,\n",
       " <matplotlib.lines.Line2D at 0x7f7bb1d2e250>,\n",
       " <matplotlib.lines.Line2D at 0x7f7bb1d2e350>,\n",
       " <matplotlib.lines.Line2D at 0x7f7bb1d2e450>,\n",
       " <matplotlib.lines.Line2D at 0x7f7bb1d2e550>,\n",
       " <matplotlib.lines.Line2D at 0x7f7bb1d2e650>,\n",
       " <matplotlib.lines.Line2D at 0x7f7bb1d2e750>,\n",
       " <matplotlib.lines.Line2D at 0x7f7bb1d2e850>,\n",
       " <matplotlib.lines.Line2D at 0x7f7bb1d2e950>,\n",
       " <matplotlib.lines.Line2D at 0x7f7bb1d2ea50>,\n",
       " <matplotlib.lines.Line2D at 0x7f7bb1d2eb50>,\n",
       " <matplotlib.lines.Line2D at 0x7f7bb1d2ec50>,\n",
       " <matplotlib.lines.Line2D at 0x7f7bb1d2ed50>,\n",
       " <matplotlib.lines.Line2D at 0x7f7bb1d2ee50>,\n",
       " <matplotlib.lines.Line2D at 0x7f7bb1d2ef50>,\n",
       " <matplotlib.lines.Line2D at 0x7f7bb1d2ef90>,\n",
       " <matplotlib.lines.Line2D at 0x7f7bb1d37190>,\n",
       " <matplotlib.lines.Line2D at 0x7f7bb1d37290>,\n",
       " <matplotlib.lines.Line2D at 0x7f7bb1d37390>,\n",
       " <matplotlib.lines.Line2D at 0x7f7bb1d37490>,\n",
       " <matplotlib.lines.Line2D at 0x7f7bb1d37590>,\n",
       " <matplotlib.lines.Line2D at 0x7f7bb1d37690>,\n",
       " <matplotlib.lines.Line2D at 0x7f7bb1d37790>,\n",
       " <matplotlib.lines.Line2D at 0x7f7bb1d37890>,\n",
       " <matplotlib.lines.Line2D at 0x7f7bb1d37990>,\n",
       " <matplotlib.lines.Line2D at 0x7f7bb1d37a90>,\n",
       " <matplotlib.lines.Line2D at 0x7f7bb1d37b90>]"
      ]
     },
     "execution_count": 42,
     "metadata": {},
     "output_type": "execute_result"
    },
    {
     "data": {
      "image/png": "[encoded data removed]",
      "text/plain": [
       "<Figure size 640x480 with 1 Axes>"
      ]
     },
     "metadata": {},
     "output_type": "display_data"
    }
   ],
   "source": [
    "plt.plot(mevent)"
   ]
  },
  {
   "cell_type": "markdown",
   "metadata": {},
   "source": [
    "# Testing random boundaries"
   ]
  },
  {
   "cell_type": "code",
   "execution_count": 12,
   "metadata": {},
   "outputs": [
    {
     "name": "stderr",
     "output_type": "stream",
     "text": [
      "/data/.conda/envs/brainiak_env/lib/python3.7/site-packages/ipykernel_launcher.py:29: DeprecationWarning: `np.int` is a deprecated alias for the builtin `int`. To silence this warning, use `int` by itself. Doing this will not modify any behavior and is safe. When replacing `np.int`, you may wish to use e.g. `np.int64` or `np.int32` to specify the precision. If you wish to review your current use, check the release note link for additional information.\n",
      "Deprecated in NumPy 1.20; for more details and guidance: https://numpy.org/devdocs/release/1.20.0-notes.html#deprecations\n"
     ]
    },
    {
     "name": "stdout",
     "output_type": "stream",
     "text": [
      "Subj 1: within vs across = 0.1093703674168214\n"
     ]
    },
    {
     "name": "stderr",
     "output_type": "stream",
     "text": [
      "/data/.conda/envs/brainiak_env/lib/python3.7/site-packages/ipykernel_launcher.py:29: DeprecationWarning: `np.int` is a deprecated alias for the builtin `int`. To silence this warning, use `int` by itself. Doing this will not modify any behavior and is safe. When replacing `np.int`, you may wish to use e.g. `np.int64` or `np.int32` to specify the precision. If you wish to review your current use, check the release note link for additional information.\n",
      "Deprecated in NumPy 1.20; for more details and guidance: https://numpy.org/devdocs/release/1.20.0-notes.html#deprecations\n"
     ]
    },
    {
     "name": "stdout",
     "output_type": "stream",
     "text": [
      "Subj 2: within vs across = -0.0525341279687314\n"
     ]
    },
    {
     "name": "stderr",
     "output_type": "stream",
     "text": [
      "/data/.conda/envs/brainiak_env/lib/python3.7/site-packages/ipykernel_launcher.py:29: DeprecationWarning: `np.int` is a deprecated alias for the builtin `int`. To silence this warning, use `int` by itself. Doing this will not modify any behavior and is safe. When replacing `np.int`, you may wish to use e.g. `np.int64` or `np.int32` to specify the precision. If you wish to review your current use, check the release note link for additional information.\n",
      "Deprecated in NumPy 1.20; for more details and guidance: https://numpy.org/devdocs/release/1.20.0-notes.html#deprecations\n"
     ]
    },
    {
     "name": "stdout",
     "output_type": "stream",
     "text": [
      "Subj 3: within vs across = -0.05583250373427677\n"
     ]
    },
    {
     "name": "stderr",
     "output_type": "stream",
     "text": [
      "/data/.conda/envs/brainiak_env/lib/python3.7/site-packages/ipykernel_launcher.py:29: DeprecationWarning: `np.int` is a deprecated alias for the builtin `int`. To silence this warning, use `int` by itself. Doing this will not modify any behavior and is safe. When replacing `np.int`, you may wish to use e.g. `np.int64` or `np.int32` to specify the precision. If you wish to review your current use, check the release note link for additional information.\n",
      "Deprecated in NumPy 1.20; for more details and guidance: https://numpy.org/devdocs/release/1.20.0-notes.html#deprecations\n"
     ]
    },
    {
     "name": "stdout",
     "output_type": "stream",
     "text": [
      "Subj 4: within vs across = 0.04394718986895132\n"
     ]
    },
    {
     "name": "stderr",
     "output_type": "stream",
     "text": [
      "/data/.conda/envs/brainiak_env/lib/python3.7/site-packages/ipykernel_launcher.py:29: DeprecationWarning: `np.int` is a deprecated alias for the builtin `int`. To silence this warning, use `int` by itself. Doing this will not modify any behavior and is safe. When replacing `np.int`, you may wish to use e.g. `np.int64` or `np.int32` to specify the precision. If you wish to review your current use, check the release note link for additional information.\n",
      "Deprecated in NumPy 1.20; for more details and guidance: https://numpy.org/devdocs/release/1.20.0-notes.html#deprecations\n"
     ]
    },
    {
     "name": "stdout",
     "output_type": "stream",
     "text": [
      "Subj 5: within vs across = -0.0717538858205304\n"
     ]
    },
    {
     "name": "stderr",
     "output_type": "stream",
     "text": [
      "/data/.conda/envs/brainiak_env/lib/python3.7/site-packages/ipykernel_launcher.py:29: DeprecationWarning: `np.int` is a deprecated alias for the builtin `int`. To silence this warning, use `int` by itself. Doing this will not modify any behavior and is safe. When replacing `np.int`, you may wish to use e.g. `np.int64` or `np.int32` to specify the precision. If you wish to review your current use, check the release note link for additional information.\n",
      "Deprecated in NumPy 1.20; for more details and guidance: https://numpy.org/devdocs/release/1.20.0-notes.html#deprecations\n"
     ]
    },
    {
     "name": "stdout",
     "output_type": "stream",
     "text": [
      "Subj 6: within vs across = -0.019374128924993843\n"
     ]
    },
    {
     "name": "stderr",
     "output_type": "stream",
     "text": [
      "/data/.conda/envs/brainiak_env/lib/python3.7/site-packages/ipykernel_launcher.py:29: DeprecationWarning: `np.int` is a deprecated alias for the builtin `int`. To silence this warning, use `int` by itself. Doing this will not modify any behavior and is safe. When replacing `np.int`, you may wish to use e.g. `np.int64` or `np.int32` to specify the precision. If you wish to review your current use, check the release note link for additional information.\n",
      "Deprecated in NumPy 1.20; for more details and guidance: https://numpy.org/devdocs/release/1.20.0-notes.html#deprecations\n"
     ]
    },
    {
     "name": "stdout",
     "output_type": "stream",
     "text": [
      "Subj 7: within vs across = 0.18150345511231944\n"
     ]
    },
    {
     "name": "stderr",
     "output_type": "stream",
     "text": [
      "/data/.conda/envs/brainiak_env/lib/python3.7/site-packages/ipykernel_launcher.py:29: DeprecationWarning: `np.int` is a deprecated alias for the builtin `int`. To silence this warning, use `int` by itself. Doing this will not modify any behavior and is safe. When replacing `np.int`, you may wish to use e.g. `np.int64` or `np.int32` to specify the precision. If you wish to review your current use, check the release note link for additional information.\n",
      "Deprecated in NumPy 1.20; for more details and guidance: https://numpy.org/devdocs/release/1.20.0-notes.html#deprecations\n"
     ]
    },
    {
     "name": "stdout",
     "output_type": "stream",
     "text": [
      "Subj 8: within vs across = 0.04341687357390949\n",
      "Subj 9: within vs across = 0.03439970311053727\n"
     ]
    },
    {
     "name": "stderr",
     "output_type": "stream",
     "text": [
      "/data/.conda/envs/brainiak_env/lib/python3.7/site-packages/ipykernel_launcher.py:29: DeprecationWarning: `np.int` is a deprecated alias for the builtin `int`. To silence this warning, use `int` by itself. Doing this will not modify any behavior and is safe. When replacing `np.int`, you may wish to use e.g. `np.int64` or `np.int32` to specify the precision. If you wish to review your current use, check the release note link for additional information.\n",
      "Deprecated in NumPy 1.20; for more details and guidance: https://numpy.org/devdocs/release/1.20.0-notes.html#deprecations\n"
     ]
    }
   ],
   "source": [
    "k = int(round(RANDOUT['Best_k'].mean(), 0))\n",
    "w = 5  # window size\n",
    "nPerm = 1000\n",
    "nSubj = 9\n",
    "nTR = 240\n",
    "\n",
    "\n",
    "within_across = np.zeros((nSubj, nPerm+1))\n",
    "for left_out in range(nSubj):\n",
    "    # Fit to all but one subject\n",
    "    ev = EventSegment(k)\n",
    "    ev.fit(randat[np.arange(nSubj) != left_out, :, :].mean(0))\n",
    "    events = np.argmax(ev.segments_[0], axis=1)\n",
    "\n",
    "    # Compute correlations separated by w in time\n",
    "    corrs = np.zeros(nTR-w)\n",
    "    for t in range(nTR-w):\n",
    "        corrs[t] = pearsonr(randat[left_out, t, :],randat[left_out,t+w,:])[0]\n",
    "    _, event_lengths = np.unique(events, return_counts=True)\n",
    "\n",
    "    # Compute within vs across boundary correlations, for real and permuted bounds\n",
    "    np.random.seed(0)\n",
    "    for p in range(nPerm+1):\n",
    "        within = corrs[events[:-w] == events[w:]].mean()\n",
    "        across = corrs[events[:-w] != events[w:]].mean()\n",
    "        within_across[left_out, p] = within - across\n",
    "        # \n",
    "        perm_lengths = np.random.permutation(event_lengths)\n",
    "        events = np.zeros(nTR, dtype=np.int)\n",
    "        events[np.cumsum(perm_lengths[:-1])] = 1\n",
    "        events = np.cumsum(events)\n",
    "    print('Subj ' + str(left_out+1) + ': within vs across = ' + str(within_across[left_out,0]))"
   ]
  },
  {
   "cell_type": "code",
   "execution_count": 13,
   "metadata": {},
   "outputs": [
    {
     "data": {
      "image/png": "[encoded data removed]",
      "text/plain": [
       "<Figure size 500x500 with 1 Axes>"
      ]
     },
     "metadata": {},
     "output_type": "display_data"
    }
   ],
   "source": [
    "plt.figure(figsize=(5,5))\n",
    "\n",
    "plt.violinplot(within_across[:,1:].mean(0), showextrema=False)\n",
    "plt.scatter(1, within_across[:,0].mean(0), label=f'r = {round(within_across[:,0].mean(0), 3)}')\n",
    "plt.legend()\n",
    "plt.gca().xaxis.set_visible(False)\n",
    "\n",
    "# plt.gcf().set_facecolor((236/255, 232/255, 232/255))\n",
    "# plt.gca().set_facecolor((236/255, 232/255, 232/255))\n",
    "\n",
    "plt.ylabel('Within vs across boundary correlation')\n",
    "plt.savefig('/data/jdecke5/projects/honors-thesis/data/eventseg/rand_comparison_4paper.png', dpi=800, bbox_inches='tight')"
   ]
  },
  {
   "cell_type": "code",
   "execution_count": 49,
   "metadata": {},
   "outputs": [
    {
     "data": {
      "text/plain": [
       "0.02368254918155628"
      ]
     },
     "execution_count": 49,
     "metadata": {},
     "output_type": "execute_result"
    }
   ],
   "source": [
    "within_across[:,0].mean(0)"
   ]
  },
  {
   "cell_type": "code",
   "execution_count": null,
   "metadata": {},
   "outputs": [],
   "source": []
  }
 ],
 "metadata": {
  "kernelspec": {
   "display_name": "Python 3",
   "language": "python",
   "name": "python3"
  },
  "language_info": {
   "codemirror_mode": {
    "name": "ipython",
    "version": 3
   },
   "file_extension": ".py",
   "mimetype": "text/x-python",
   "name": "python",
   "nbconvert_exporter": "python",
   "pygments_lexer": "ipython3",
   "version": "3.7.12"
  }
 },
 "nbformat": 4,
 "nbformat_minor": 2
}
