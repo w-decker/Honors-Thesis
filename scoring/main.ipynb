{
 "cells": [
  {
   "cell_type": "markdown",
   "metadata": {},
   "source": [
    "# Scoring participant post-test\n",
    "\n",
    "Here is the step-by-step code for scoring participant data generated during Will Decker's honors thesis.\n",
    "\n",
    "There are two tasks (although only one will make it to the final paradigm): go-no-go and 3afc. "
   ]
  },
  {
   "cell_type": "markdown",
   "metadata": {},
   "source": [
    "## 3afc"
   ]
  },
  {
   "cell_type": "code",
   "execution_count": 2,
   "metadata": {},
   "outputs": [],
   "source": [
    "# imports\n",
    "import pandas as pd\n",
    "import numpy as np\n",
    "import seaborn as sns\n",
    "import matplotlib.pyplot as plt"
   ]
  },
  {
   "cell_type": "markdown",
   "metadata": {},
   "source": [
    "### Cleaning\n",
    "\n",
    "Load in the data and prepare for additional analyses"
   ]
  },
  {
   "cell_type": "code",
   "execution_count": 21,
   "metadata": {},
   "outputs": [],
   "source": [
    "# load in data\n",
    "d = pd.read_csv('testdata/sub-001-3afc.csv')\n",
    "\n",
    "# determine which order\n",
    "order = []\n",
    "if d['blocks'][5] == 'block1.csv':\n",
    "    order = 1\n",
    "elif d['blocks'][5] == 'block12.csv':\n",
    "    order =2\n",
    "\n",
    "# remove unnecessary columns \n",
    "label = ['example_outer_loop.thisRepN',\n",
    "'example_outer_loop.thisTrialN',\n",
    "'example_outer_loop.thisN',\n",
    "'example_outer_loop.thisIndex',\n",
    "'example_inner_loop.thisRepN',\n",
    "'example_inner_loop.thisTrialN',\n",
    "'example_inner_loop.thisN',\n",
    "'example_inner_loop.thisIndex',\n",
    "'example_shift_loop.thisRepN',\n",
    "'example_shift_loop.thisTrialN',\n",
    "'example_shift_loop.thisN',\n",
    "'example_shift_loop.thisIndex',\n",
    "'trials_loop.thisRepN',\n",
    "'trials_loop.thisTrialN',\n",
    "'trials_loop.thisN',\n",
    "'trials_loop.thisIndex',\n",
    "'transition_loop.thisRepN',\n",
    "'transition_loop.thisTrialN',\n",
    "'transition_loop.thisN',\n",
    "'transition_loop.thisIndex',\n",
    "'blocks_loop.thisRepN',\n",
    "'blocks_loop.thisTrialN',\n",
    "'blocks_loop.thisN',\n",
    "'blocks_loop.thisIndex',\n",
    "'word_loop.thisRepN',\n",
    "'word_loop.thisTrialN',\n",
    "'word_loop.thisN',\n",
    "'word_loop.thisIndex',\n",
    "'replay_msg_loop.thisRepN',\n",
    "'replay_msg_loop.thisTrialN',\n",
    "'replay_msg_loop.thisN',\n",
    "'replay_msg_loop.thisIndex',\n",
    "'instructions1_key.keys',\n",
    "'instructions1_key.rt',\n",
    "'instructions2_key.keys',\n",
    "'instructions2_key.rt',\n",
    "'instructions3_key.keys',\n",
    "'instructions3_key.rt',\n",
    "'instructions4_key.keys',\n",
    "'instructions4_key.rt',\n",
    "'shift1.started',\n",
    "'shift1.stopped',\n",
    "'shift2_2.started',\n",
    "'shift2_2.stopped',\n",
    "'instructions5_key.keys',\n",
    "'instructions5_key.rt',\n",
    "'word_sound.started',\n",
    "'word1_shape.started',\n",
    "'word_sound.stopped',\n",
    "'word1_shape.stopped',\n",
    "'jitter_shape.started',\n",
    "'jitter_shape.stopped',\n",
    "'shift2_shape.started',\n",
    "'shift2_shape.stopped',\n",
    "'replay_msg_text.started',\n",
    "'response_text.started',\n",
    "'key_resp.started',\n",
    "'replay_msg_text.stopped',\n",
    "'participant',\n",
    "'order',\n",
    "'date',\n",
    "'expName',\n",
    "'psychopyVersion',\n",
    "'frameRate']\n",
    "\n",
    "d = d.drop(columns=label)\n"
   ]
  },
  {
   "cell_type": "markdown",
   "metadata": {},
   "source": [
    "### Score\n",
    "\n",
    "Load in an answer key and score the participants' accuracy"
   ]
  },
  {
   "cell_type": "code",
   "execution_count": 8,
   "metadata": {},
   "outputs": [
    {
     "name": "stdout",
     "output_type": "stream",
     "text": [
      "block1.csv\n"
     ]
    }
   ],
   "source": [
    "# load in answer key\n",
    "anskey = pd.read_csv()\n",
    "\n"
   ]
  },
  {
   "cell_type": "markdown",
   "metadata": {},
   "source": [
    "### Stats\n",
    "\n",
    "Compute statistical analysis of participant data"
   ]
  },
  {
   "cell_type": "code",
   "execution_count": null,
   "metadata": {},
   "outputs": [],
   "source": [
    "# define contants\n",
    "mu = 0.33 # chance\n"
   ]
  }
 ],
 "metadata": {
  "kernelspec": {
   "display_name": "Python 3",
   "language": "python",
   "name": "python3"
  },
  "language_info": {
   "codemirror_mode": {
    "name": "ipython",
    "version": 3
   },
   "file_extension": ".py",
   "mimetype": "text/x-python",
   "name": "python",
   "nbconvert_exporter": "python",
   "pygments_lexer": "ipython3",
   "version": "3.10.7"
  },
  "orig_nbformat": 4
 },
 "nbformat": 4,
 "nbformat_minor": 2
}
