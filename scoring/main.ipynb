{
 "cells": [
  {
   "cell_type": "markdown",
   "metadata": {},
   "source": [
    "# Scoring participant post-test\n",
    "\n",
    "Here is the step-by-step code for scoring participant data generated during Will Decker's honors thesis.\n",
    "\n",
    "There are two tasks (although only one will make it to the final paradigm): go-no-go and 3afc. "
   ]
  },
  {
   "cell_type": "markdown",
   "metadata": {},
   "source": [
    "## 3afc"
   ]
  },
  {
   "cell_type": "code",
   "execution_count": 2,
   "metadata": {},
   "outputs": [],
   "source": [
    "# imports\n",
    "import pandas as pd\n",
    "import numpy as np\n",
    "# import seaborn as sns\n",
    "import matplotlib.pyplot as plt"
   ]
  },
  {
   "cell_type": "markdown",
   "metadata": {},
   "source": [
    "### Cleaning\n",
    "\n",
    "Load in the data and prepare for additional analyses"
   ]
  },
  {
   "cell_type": "code",
   "execution_count": 68,
   "metadata": {},
   "outputs": [],
   "source": [
    "# load in data\n",
    "dd = \"D:/decker_honors_thesis_paradigm/3afc/data/sub-003_3afc_1.csv\"\n",
    "d = pd.read_csv(dd)\n",
    "\n",
    "# determine which order\n",
    "order = []\n",
    "if d['blocks'][5] == 'block1.csv':\n",
    "    order = 1\n",
    "elif d['blocks'][5] == 'block12.csv':\n",
    "    order =2\n",
    "\n",
    "# remove unnecessary columns \n",
    "label = ['example_outer_loop.thisRepN',\n",
    "'example_outer_loop.thisTrialN',\n",
    "'example_outer_loop.thisN',\n",
    "'example_outer_loop.thisIndex',\n",
    "'example_inner_loop.thisRepN',\n",
    "'example_inner_loop.thisTrialN',\n",
    "'example_inner_loop.thisN',\n",
    "'example_inner_loop.thisIndex',\n",
    "'example_shift_loop.thisRepN',\n",
    "'example_shift_loop.thisTrialN',\n",
    "'example_shift_loop.thisN',\n",
    "'example_shift_loop.thisIndex',\n",
    "'trials_loop.thisRepN',\n",
    "'trials_loop.thisTrialN',\n",
    "'trials_loop.thisN',\n",
    "'trials_loop.thisIndex',\n",
    "'transition_loop.thisRepN',\n",
    "'transition_loop.thisTrialN',\n",
    "'transition_loop.thisN',\n",
    "'transition_loop.thisIndex',\n",
    "'blocks_loop.thisRepN',\n",
    "'blocks_loop.thisTrialN',\n",
    "'blocks_loop.thisN',\n",
    "'blocks_loop.thisIndex',\n",
    "'word_loop.thisRepN',\n",
    "'word_loop.thisTrialN',\n",
    "'word_loop.thisN',\n",
    "'word_loop.thisIndex',\n",
    "'replay_msg_loop.thisRepN',\n",
    "'replay_msg_loop.thisTrialN',\n",
    "'replay_msg_loop.thisN',\n",
    "'replay_msg_loop.thisIndex',\n",
    "'instructions1_key.keys',\n",
    "'instructions1_key.rt',\n",
    "'instructions2_key.keys',\n",
    "'instructions2_key.rt',\n",
    "'instructions3_key.keys',\n",
    "'instructions3_key.rt',\n",
    "'instructions4_key.keys',\n",
    "'instructions4_key.rt',\n",
    "'shift1.started',\n",
    "'shift1.stopped',\n",
    "'shift2_2.started',\n",
    "'shift2_2.stopped',\n",
    "'instructions5_key.keys',\n",
    "'instructions5_key.rt',\n",
    "'word_sound.started',\n",
    "'word1_shape.started',\n",
    "'word_sound.stopped',\n",
    "'word1_shape.stopped',\n",
    "'jitter_shape.started',\n",
    "'jitter_shape.stopped',\n",
    "# 'shift2_shape.started',\n",
    "# 'shift2_shape.stopped',\n",
    "'replay_msg_text.started',\n",
    "'response_text.started',\n",
    "'key_resp.started',\n",
    "'replay_msg_text.stopped',\n",
    "'participant',\n",
    "'order',\n",
    "'date',\n",
    "'expName',\n",
    "'psychopyVersion',\n",
    "'frameRate']\n",
    "\n",
    "d = d.drop(columns=label)\n"
   ]
  },
  {
   "attachments": {},
   "cell_type": "markdown",
   "metadata": {},
   "source": [
    "### Score\n",
    "\n",
    "Create answer key"
   ]
  },
  {
   "cell_type": "code",
   "execution_count": 52,
   "metadata": {},
   "outputs": [],
   "source": [
    "# create empty df for scoring\n",
    "anskey = pd.DataFrame(columns=['correct_key_resp', 'actual_key_resp', 'assign_codes', 'score'])\n",
    "\n",
    "# set answer key based on order set a few chunks earlier\n",
    "answers =  ['z', 'v', 'v',  'z', 'm', 'z', 'z','v', 'm','v', 'v', 'm']\n",
    "if order == 1:\n",
    "    anskey['correct_key_resp'] = answers\n",
    "elif order == 2:\n",
    "    anskey['correct_key_resp'] = answers[::-1]"
   ]
  },
  {
   "attachments": {},
   "cell_type": "markdown",
   "metadata": {},
   "source": [
    "### Combine participant answers with answer key"
   ]
  },
  {
   "cell_type": "code",
   "execution_count": 53,
   "metadata": {},
   "outputs": [],
   "source": [
    "anskey['actual_key_resp'] = list(d['key_resp.keys'][5:29].dropna())"
   ]
  },
  {
   "attachments": {},
   "cell_type": "markdown",
   "metadata": {},
   "source": [
    "### Score individual responses"
   ]
  },
  {
   "cell_type": "code",
   "execution_count": 55,
   "metadata": {},
   "outputs": [
    {
     "name": "stdout",
     "output_type": "stream",
     "text": [
      "The score is 0.4166666666666667.\n"
     ]
    },
    {
     "name": "stderr",
     "output_type": "stream",
     "text": [
      "C:\\Users\\jdecke5\\AppData\\Local\\Temp\\ipykernel_8100\\459853575.py:4: SettingWithCopyWarning: \n",
      "A value is trying to be set on a copy of a slice from a DataFrame\n",
      "\n",
      "See the caveats in the documentation: https://pandas.pydata.org/pandas-docs/stable/user_guide/indexing.html#returning-a-view-versus-a-copy\n",
      "  anskey['assign_codes'][i] = 1\n",
      "C:\\Users\\jdecke5\\AppData\\Local\\Temp\\ipykernel_8100\\459853575.py:6: SettingWithCopyWarning: \n",
      "A value is trying to be set on a copy of a slice from a DataFrame\n",
      "\n",
      "See the caveats in the documentation: https://pandas.pydata.org/pandas-docs/stable/user_guide/indexing.html#returning-a-view-versus-a-copy\n",
      "  anskey['assign_codes'][i] = 0\n",
      "C:\\Users\\jdecke5\\AppData\\Local\\Temp\\ipykernel_8100\\459853575.py:4: SettingWithCopyWarning: \n",
      "A value is trying to be set on a copy of a slice from a DataFrame\n",
      "\n",
      "See the caveats in the documentation: https://pandas.pydata.org/pandas-docs/stable/user_guide/indexing.html#returning-a-view-versus-a-copy\n",
      "  anskey['assign_codes'][i] = 1\n",
      "C:\\Users\\jdecke5\\AppData\\Local\\Temp\\ipykernel_8100\\459853575.py:6: SettingWithCopyWarning: \n",
      "A value is trying to be set on a copy of a slice from a DataFrame\n",
      "\n",
      "See the caveats in the documentation: https://pandas.pydata.org/pandas-docs/stable/user_guide/indexing.html#returning-a-view-versus-a-copy\n",
      "  anskey['assign_codes'][i] = 0\n",
      "C:\\Users\\jdecke5\\AppData\\Local\\Temp\\ipykernel_8100\\459853575.py:6: SettingWithCopyWarning: \n",
      "A value is trying to be set on a copy of a slice from a DataFrame\n",
      "\n",
      "See the caveats in the documentation: https://pandas.pydata.org/pandas-docs/stable/user_guide/indexing.html#returning-a-view-versus-a-copy\n",
      "  anskey['assign_codes'][i] = 0\n",
      "C:\\Users\\jdecke5\\AppData\\Local\\Temp\\ipykernel_8100\\459853575.py:6: SettingWithCopyWarning: \n",
      "A value is trying to be set on a copy of a slice from a DataFrame\n",
      "\n",
      "See the caveats in the documentation: https://pandas.pydata.org/pandas-docs/stable/user_guide/indexing.html#returning-a-view-versus-a-copy\n",
      "  anskey['assign_codes'][i] = 0\n",
      "C:\\Users\\jdecke5\\AppData\\Local\\Temp\\ipykernel_8100\\459853575.py:4: SettingWithCopyWarning: \n",
      "A value is trying to be set on a copy of a slice from a DataFrame\n",
      "\n",
      "See the caveats in the documentation: https://pandas.pydata.org/pandas-docs/stable/user_guide/indexing.html#returning-a-view-versus-a-copy\n",
      "  anskey['assign_codes'][i] = 1\n",
      "C:\\Users\\jdecke5\\AppData\\Local\\Temp\\ipykernel_8100\\459853575.py:4: SettingWithCopyWarning: \n",
      "A value is trying to be set on a copy of a slice from a DataFrame\n",
      "\n",
      "See the caveats in the documentation: https://pandas.pydata.org/pandas-docs/stable/user_guide/indexing.html#returning-a-view-versus-a-copy\n",
      "  anskey['assign_codes'][i] = 1\n",
      "C:\\Users\\jdecke5\\AppData\\Local\\Temp\\ipykernel_8100\\459853575.py:6: SettingWithCopyWarning: \n",
      "A value is trying to be set on a copy of a slice from a DataFrame\n",
      "\n",
      "See the caveats in the documentation: https://pandas.pydata.org/pandas-docs/stable/user_guide/indexing.html#returning-a-view-versus-a-copy\n",
      "  anskey['assign_codes'][i] = 0\n",
      "C:\\Users\\jdecke5\\AppData\\Local\\Temp\\ipykernel_8100\\459853575.py:6: SettingWithCopyWarning: \n",
      "A value is trying to be set on a copy of a slice from a DataFrame\n",
      "\n",
      "See the caveats in the documentation: https://pandas.pydata.org/pandas-docs/stable/user_guide/indexing.html#returning-a-view-versus-a-copy\n",
      "  anskey['assign_codes'][i] = 0\n",
      "C:\\Users\\jdecke5\\AppData\\Local\\Temp\\ipykernel_8100\\459853575.py:6: SettingWithCopyWarning: \n",
      "A value is trying to be set on a copy of a slice from a DataFrame\n",
      "\n",
      "See the caveats in the documentation: https://pandas.pydata.org/pandas-docs/stable/user_guide/indexing.html#returning-a-view-versus-a-copy\n",
      "  anskey['assign_codes'][i] = 0\n",
      "C:\\Users\\jdecke5\\AppData\\Local\\Temp\\ipykernel_8100\\459853575.py:4: SettingWithCopyWarning: \n",
      "A value is trying to be set on a copy of a slice from a DataFrame\n",
      "\n",
      "See the caveats in the documentation: https://pandas.pydata.org/pandas-docs/stable/user_guide/indexing.html#returning-a-view-versus-a-copy\n",
      "  anskey['assign_codes'][i] = 1\n",
      "C:\\Users\\jdecke5\\AppData\\Local\\Temp\\ipykernel_8100\\459853575.py:9: SettingWithCopyWarning: \n",
      "A value is trying to be set on a copy of a slice from a DataFrame\n",
      "\n",
      "See the caveats in the documentation: https://pandas.pydata.org/pandas-docs/stable/user_guide/indexing.html#returning-a-view-versus-a-copy\n",
      "  anskey['score'][1] = (sum(anskey['assign_codes']))/12;\n"
     ]
    }
   ],
   "source": [
    "# assign codes\n",
    "for i in range(12):\n",
    "    if anskey['correct_key_resp'][i] == anskey['actual_key_resp'][i]:\n",
    "        anskey['assign_codes'][i] = 1\n",
    "    else:\n",
    "        anskey['assign_codes'][i] = 0\n",
    "\n",
    "# get score\n",
    "anskey['score'][1] = (sum(anskey['assign_codes']))/12;\n",
    "\n",
    "# output\n",
    "score= anskey['score'][1];\n",
    "print(f'The score is {score}.')"
   ]
  },
  {
   "attachments": {},
   "cell_type": "markdown",
   "metadata": {},
   "source": [
    "### Integrate scores into participant database"
   ]
  },
  {
   "cell_type": "code",
   "execution_count": 58,
   "metadata": {},
   "outputs": [],
   "source": [
    "# read in database\n",
    "pdb = pd.read_excel('/decker_honors_thesis_paradigm/participant_database.xlsx')"
   ]
  },
  {
   "attachments": {},
   "cell_type": "markdown",
   "metadata": {},
   "source": [
    "### Trying with `scoring_module()`"
   ]
  },
  {
   "cell_type": "code",
   "execution_count": 1,
   "metadata": {},
   "outputs": [
    {
     "name": "stderr",
     "output_type": "stream",
     "text": [
      "d:\\decker_honors_thesis_paradigm\\Honors-Thesis\\scoring\\scoring_module.py:197: SettingWithCopyWarning: \n",
      "A value is trying to be set on a copy of a slice from a DataFrame\n",
      "\n",
      "See the caveats in the documentation: https://pandas.pydata.org/pandas-docs/stable/user_guide/indexing.html#returning-a-view-versus-a-copy\n",
      "  pdb['score'][idx] = score\n"
     ]
    },
    {
     "ename": "PermissionError",
     "evalue": "[Errno 13] Permission denied: '/decker_honors_thesis_paradigm/participant_database.xlsx'",
     "output_type": "error",
     "traceback": [
      "\u001b[1;31m---------------------------------------------------------------------------\u001b[0m",
      "\u001b[1;31mPermissionError\u001b[0m                           Traceback (most recent call last)",
      "Cell \u001b[1;32mIn[1], line 21\u001b[0m\n\u001b[0;32m     19\u001b[0m \u001b[39m# put scores into participant database for future use\u001b[39;00m\n\u001b[0;32m     20\u001b[0m participant_database \u001b[39m=\u001b[39m \u001b[39m'\u001b[39m\u001b[39m/decker_honors_thesis_paradigm/participant_database.xlsx\u001b[39m\u001b[39m'\u001b[39m\n\u001b[1;32m---> 21\u001b[0m sm\u001b[39m.\u001b[39;49mmanage_scores(score, participant_database, subid)\n",
      "File \u001b[1;32md:\\decker_honors_thesis_paradigm\\Honors-Thesis\\scoring\\scoring_module.py:200\u001b[0m, in \u001b[0;36mmanage_scores\u001b[1;34m(score, participant_database, subid)\u001b[0m\n\u001b[0;32m    197\u001b[0m pdb[\u001b[39m'\u001b[39m\u001b[39mscore\u001b[39m\u001b[39m'\u001b[39m][idx] \u001b[39m=\u001b[39m score\n\u001b[0;32m    199\u001b[0m \u001b[39m# write participant database back out\u001b[39;00m\n\u001b[1;32m--> 200\u001b[0m pdb\u001b[39m.\u001b[39;49mto_excel(participant_database)\n",
      "File \u001b[1;32m~\\AppData\\Roaming\\Python\\Python311\\site-packages\\pandas\\core\\generic.py:2345\u001b[0m, in \u001b[0;36mNDFrame.to_excel\u001b[1;34m(self, excel_writer, sheet_name, na_rep, float_format, columns, header, index, index_label, startrow, startcol, engine, merge_cells, inf_rep, freeze_panes, storage_options, engine_kwargs)\u001b[0m\n\u001b[0;32m   2332\u001b[0m \u001b[39mfrom\u001b[39;00m \u001b[39mpandas\u001b[39;00m\u001b[39m.\u001b[39;00m\u001b[39mio\u001b[39;00m\u001b[39m.\u001b[39;00m\u001b[39mformats\u001b[39;00m\u001b[39m.\u001b[39;00m\u001b[39mexcel\u001b[39;00m \u001b[39mimport\u001b[39;00m ExcelFormatter\n\u001b[0;32m   2334\u001b[0m formatter \u001b[39m=\u001b[39m ExcelFormatter(\n\u001b[0;32m   2335\u001b[0m     df,\n\u001b[0;32m   2336\u001b[0m     na_rep\u001b[39m=\u001b[39mna_rep,\n\u001b[1;32m   (...)\u001b[0m\n\u001b[0;32m   2343\u001b[0m     inf_rep\u001b[39m=\u001b[39minf_rep,\n\u001b[0;32m   2344\u001b[0m )\n\u001b[1;32m-> 2345\u001b[0m formatter\u001b[39m.\u001b[39;49mwrite(\n\u001b[0;32m   2346\u001b[0m     excel_writer,\n\u001b[0;32m   2347\u001b[0m     sheet_name\u001b[39m=\u001b[39;49msheet_name,\n\u001b[0;32m   2348\u001b[0m     startrow\u001b[39m=\u001b[39;49mstartrow,\n\u001b[0;32m   2349\u001b[0m     startcol\u001b[39m=\u001b[39;49mstartcol,\n\u001b[0;32m   2350\u001b[0m     freeze_panes\u001b[39m=\u001b[39;49mfreeze_panes,\n\u001b[0;32m   2351\u001b[0m     engine\u001b[39m=\u001b[39;49mengine,\n\u001b[0;32m   2352\u001b[0m     storage_options\u001b[39m=\u001b[39;49mstorage_options,\n\u001b[0;32m   2353\u001b[0m     engine_kwargs\u001b[39m=\u001b[39;49mengine_kwargs,\n\u001b[0;32m   2354\u001b[0m )\n",
      "File \u001b[1;32m~\\AppData\\Roaming\\Python\\Python311\\site-packages\\pandas\\io\\formats\\excel.py:946\u001b[0m, in \u001b[0;36mExcelFormatter.write\u001b[1;34m(self, writer, sheet_name, startrow, startcol, freeze_panes, engine, storage_options, engine_kwargs)\u001b[0m\n\u001b[0;32m    942\u001b[0m     need_save \u001b[39m=\u001b[39m \u001b[39mFalse\u001b[39;00m\n\u001b[0;32m    943\u001b[0m \u001b[39melse\u001b[39;00m:\n\u001b[0;32m    944\u001b[0m     \u001b[39m# error: Cannot instantiate abstract class 'ExcelWriter' with abstract\u001b[39;00m\n\u001b[0;32m    945\u001b[0m     \u001b[39m# attributes 'engine', 'save', 'supported_extensions' and 'write_cells'\u001b[39;00m\n\u001b[1;32m--> 946\u001b[0m     writer \u001b[39m=\u001b[39m ExcelWriter(  \u001b[39m# type: ignore[abstract]\u001b[39;49;00m\n\u001b[0;32m    947\u001b[0m         writer,\n\u001b[0;32m    948\u001b[0m         engine\u001b[39m=\u001b[39;49mengine,\n\u001b[0;32m    949\u001b[0m         storage_options\u001b[39m=\u001b[39;49mstorage_options,\n\u001b[0;32m    950\u001b[0m         engine_kwargs\u001b[39m=\u001b[39;49mengine_kwargs,\n\u001b[0;32m    951\u001b[0m     )\n\u001b[0;32m    952\u001b[0m     need_save \u001b[39m=\u001b[39m \u001b[39mTrue\u001b[39;00m\n\u001b[0;32m    954\u001b[0m \u001b[39mtry\u001b[39;00m:\n",
      "File \u001b[1;32m~\\AppData\\Roaming\\Python\\Python311\\site-packages\\pandas\\io\\excel\\_openpyxl.py:61\u001b[0m, in \u001b[0;36mOpenpyxlWriter.__init__\u001b[1;34m(self, path, engine, date_format, datetime_format, mode, storage_options, if_sheet_exists, engine_kwargs, **kwargs)\u001b[0m\n\u001b[0;32m     57\u001b[0m \u001b[39mfrom\u001b[39;00m \u001b[39mopenpyxl\u001b[39;00m\u001b[39m.\u001b[39;00m\u001b[39mworkbook\u001b[39;00m \u001b[39mimport\u001b[39;00m Workbook\n\u001b[0;32m     59\u001b[0m engine_kwargs \u001b[39m=\u001b[39m combine_kwargs(engine_kwargs, kwargs)\n\u001b[1;32m---> 61\u001b[0m \u001b[39msuper\u001b[39;49m()\u001b[39m.\u001b[39;49m\u001b[39m__init__\u001b[39;49m(\n\u001b[0;32m     62\u001b[0m     path,\n\u001b[0;32m     63\u001b[0m     mode\u001b[39m=\u001b[39;49mmode,\n\u001b[0;32m     64\u001b[0m     storage_options\u001b[39m=\u001b[39;49mstorage_options,\n\u001b[0;32m     65\u001b[0m     if_sheet_exists\u001b[39m=\u001b[39;49mif_sheet_exists,\n\u001b[0;32m     66\u001b[0m     engine_kwargs\u001b[39m=\u001b[39;49mengine_kwargs,\n\u001b[0;32m     67\u001b[0m )\n\u001b[0;32m     69\u001b[0m \u001b[39m# ExcelWriter replaced \"a\" by \"r+\" to allow us to first read the excel file from\u001b[39;00m\n\u001b[0;32m     70\u001b[0m \u001b[39m# the file and later write to it\u001b[39;00m\n\u001b[0;32m     71\u001b[0m \u001b[39mif\u001b[39;00m \u001b[39m\"\u001b[39m\u001b[39mr+\u001b[39m\u001b[39m\"\u001b[39m \u001b[39min\u001b[39;00m \u001b[39mself\u001b[39m\u001b[39m.\u001b[39m_mode:  \u001b[39m# Load from existing workbook\u001b[39;00m\n",
      "File \u001b[1;32m~\\AppData\\Roaming\\Python\\Python311\\site-packages\\pandas\\io\\excel\\_base.py:1263\u001b[0m, in \u001b[0;36mExcelWriter.__init__\u001b[1;34m(self, path, engine, date_format, datetime_format, mode, storage_options, if_sheet_exists, engine_kwargs)\u001b[0m\n\u001b[0;32m   1259\u001b[0m \u001b[39mself\u001b[39m\u001b[39m.\u001b[39m_handles \u001b[39m=\u001b[39m IOHandles(\n\u001b[0;32m   1260\u001b[0m     cast(IO[\u001b[39mbytes\u001b[39m], path), compression\u001b[39m=\u001b[39m{\u001b[39m\"\u001b[39m\u001b[39mcompression\u001b[39m\u001b[39m\"\u001b[39m: \u001b[39mNone\u001b[39;00m}\n\u001b[0;32m   1261\u001b[0m )\n\u001b[0;32m   1262\u001b[0m \u001b[39mif\u001b[39;00m \u001b[39mnot\u001b[39;00m \u001b[39misinstance\u001b[39m(path, ExcelWriter):\n\u001b[1;32m-> 1263\u001b[0m     \u001b[39mself\u001b[39m\u001b[39m.\u001b[39m_handles \u001b[39m=\u001b[39m get_handle(\n\u001b[0;32m   1264\u001b[0m         path, mode, storage_options\u001b[39m=\u001b[39;49mstorage_options, is_text\u001b[39m=\u001b[39;49m\u001b[39mFalse\u001b[39;49;00m\n\u001b[0;32m   1265\u001b[0m     )\n\u001b[0;32m   1266\u001b[0m \u001b[39mself\u001b[39m\u001b[39m.\u001b[39m_cur_sheet \u001b[39m=\u001b[39m \u001b[39mNone\u001b[39;00m\n\u001b[0;32m   1268\u001b[0m \u001b[39mif\u001b[39;00m date_format \u001b[39mis\u001b[39;00m \u001b[39mNone\u001b[39;00m:\n",
      "File \u001b[1;32m~\\AppData\\Roaming\\Python\\Python311\\site-packages\\pandas\\io\\common.py:872\u001b[0m, in \u001b[0;36mget_handle\u001b[1;34m(path_or_buf, mode, encoding, compression, memory_map, is_text, errors, storage_options)\u001b[0m\n\u001b[0;32m    863\u001b[0m         handle \u001b[39m=\u001b[39m \u001b[39mopen\u001b[39m(\n\u001b[0;32m    864\u001b[0m             handle,\n\u001b[0;32m    865\u001b[0m             ioargs\u001b[39m.\u001b[39mmode,\n\u001b[1;32m   (...)\u001b[0m\n\u001b[0;32m    868\u001b[0m             newline\u001b[39m=\u001b[39m\u001b[39m\"\u001b[39m\u001b[39m\"\u001b[39m,\n\u001b[0;32m    869\u001b[0m         )\n\u001b[0;32m    870\u001b[0m     \u001b[39melse\u001b[39;00m:\n\u001b[0;32m    871\u001b[0m         \u001b[39m# Binary mode\u001b[39;00m\n\u001b[1;32m--> 872\u001b[0m         handle \u001b[39m=\u001b[39m \u001b[39mopen\u001b[39;49m(handle, ioargs\u001b[39m.\u001b[39;49mmode)\n\u001b[0;32m    873\u001b[0m     handles\u001b[39m.\u001b[39mappend(handle)\n\u001b[0;32m    875\u001b[0m \u001b[39m# Convert BytesIO or file objects passed with an encoding\u001b[39;00m\n",
      "\u001b[1;31mPermissionError\u001b[0m: [Errno 13] Permission denied: '/decker_honors_thesis_paradigm/participant_database.xlsx'"
     ]
    }
   ],
   "source": [
    "# imports\n",
    "import scoring_module as sm\n",
    "\n",
    "# give it some data\n",
    "d = '/decker_honors_thesis_paradigm/3afc/data/sub-003_3afc_1.csv'\n",
    "\n",
    "# clean data to prepare for scoring\n",
    "order, df, subid = sm.clean_3afc(d)\n",
    "\n",
    "# create answer key\n",
    "anskey = sm.create_anskey(order)\n",
    "\n",
    "# append participant responses to answer key for comparison\n",
    "anskey = sm.merge_participant_data(df, anskey)\n",
    "\n",
    "# score the data\n",
    "anskey, score = sm.score(anskey)\n",
    "\n",
    "# put scores into participant database for future use\n",
    "participant_database = '/decker_honors_thesis_paradigm/participant_database.xlsx'\n",
    "sm.manage_scores(score, participant_database, subid)\n"
   ]
  },
  {
   "cell_type": "code",
   "execution_count": null,
   "metadata": {},
   "outputs": [],
   "source": []
  }
 ],
 "metadata": {
  "kernelspec": {
   "display_name": "Python 3",
   "language": "python",
   "name": "python3"
  },
  "language_info": {
   "codemirror_mode": {
    "name": "ipython",
    "version": 3
   },
   "file_extension": ".py",
   "mimetype": "text/x-python",
   "name": "python",
   "nbconvert_exporter": "python",
   "pygments_lexer": "ipython3",
   "version": "3.11.2"
  },
  "orig_nbformat": 4
 },
 "nbformat": 4,
 "nbformat_minor": 2
}
