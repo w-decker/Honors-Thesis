{
 "cells": [
  {
   "cell_type": "markdown",
   "metadata": {},
   "source": [
    "# Scoring participant post-test\n",
    "\n",
    "Here is the step-by-step code for scoring participant data generated during Will Decker's honors thesis.\n",
    "\n",
    "There are two tasks (although only one will make it to the final paradigm): go-no-go and 3afc. "
   ]
  },
  {
   "cell_type": "markdown",
   "metadata": {},
   "source": [
    "## 3afc"
   ]
  },
  {
   "cell_type": "code",
   "execution_count": 1,
   "metadata": {},
   "outputs": [],
   "source": [
    "# imports\n",
    "import pandas as pd\n",
    "import numpy as np\n",
    "# import seaborn as sns\n",
    "import matplotlib.pyplot as plt"
   ]
  },
  {
   "cell_type": "markdown",
   "metadata": {},
   "source": [
    "### Cleaning\n",
    "\n",
    "Load in the data and prepare for additional analyses"
   ]
  },
  {
   "cell_type": "code",
   "execution_count": 68,
   "metadata": {},
   "outputs": [],
   "source": [
    "# load in data\n",
    "dd = \"D:/decker_honors_thesis_paradigm/3afc/data/sub-003_3afc_1.csv\"\n",
    "d = pd.read_csv(dd)\n",
    "\n",
    "# determine which order\n",
    "order = []\n",
    "if d['blocks'][5] == 'block1.csv':\n",
    "    order = 1\n",
    "elif d['blocks'][5] == 'block12.csv':\n",
    "    order =2\n",
    "\n",
    "# remove unnecessary columns \n",
    "label = ['example_outer_loop.thisRepN',\n",
    "'example_outer_loop.thisTrialN',\n",
    "'example_outer_loop.thisN',\n",
    "'example_outer_loop.thisIndex',\n",
    "'example_inner_loop.thisRepN',\n",
    "'example_inner_loop.thisTrialN',\n",
    "'example_inner_loop.thisN',\n",
    "'example_inner_loop.thisIndex',\n",
    "'example_shift_loop.thisRepN',\n",
    "'example_shift_loop.thisTrialN',\n",
    "'example_shift_loop.thisN',\n",
    "'example_shift_loop.thisIndex',\n",
    "'trials_loop.thisRepN',\n",
    "'trials_loop.thisTrialN',\n",
    "'trials_loop.thisN',\n",
    "'trials_loop.thisIndex',\n",
    "'transition_loop.thisRepN',\n",
    "'transition_loop.thisTrialN',\n",
    "'transition_loop.thisN',\n",
    "'transition_loop.thisIndex',\n",
    "'blocks_loop.thisRepN',\n",
    "'blocks_loop.thisTrialN',\n",
    "'blocks_loop.thisN',\n",
    "'blocks_loop.thisIndex',\n",
    "'word_loop.thisRepN',\n",
    "'word_loop.thisTrialN',\n",
    "'word_loop.thisN',\n",
    "'word_loop.thisIndex',\n",
    "'replay_msg_loop.thisRepN',\n",
    "'replay_msg_loop.thisTrialN',\n",
    "'replay_msg_loop.thisN',\n",
    "'replay_msg_loop.thisIndex',\n",
    "'instructions1_key.keys',\n",
    "'instructions1_key.rt',\n",
    "'instructions2_key.keys',\n",
    "'instructions2_key.rt',\n",
    "'instructions3_key.keys',\n",
    "'instructions3_key.rt',\n",
    "'instructions4_key.keys',\n",
    "'instructions4_key.rt',\n",
    "'shift1.started',\n",
    "'shift1.stopped',\n",
    "'shift2_2.started',\n",
    "'shift2_2.stopped',\n",
    "'instructions5_key.keys',\n",
    "'instructions5_key.rt',\n",
    "'word_sound.started',\n",
    "'word1_shape.started',\n",
    "'word_sound.stopped',\n",
    "'word1_shape.stopped',\n",
    "'jitter_shape.started',\n",
    "'jitter_shape.stopped',\n",
    "# 'shift2_shape.started',\n",
    "# 'shift2_shape.stopped',\n",
    "'replay_msg_text.started',\n",
    "'response_text.started',\n",
    "'key_resp.started',\n",
    "'replay_msg_text.stopped',\n",
    "'participant',\n",
    "'order',\n",
    "'date',\n",
    "'expName',\n",
    "'psychopyVersion',\n",
    "'frameRate']\n",
    "\n",
    "d = d.drop(columns=label)\n"
   ]
  },
  {
   "attachments": {},
   "cell_type": "markdown",
   "metadata": {},
   "source": [
    "### Score\n",
    "\n",
    "Create answer key"
   ]
  },
  {
   "cell_type": "code",
   "execution_count": 52,
   "metadata": {},
   "outputs": [],
   "source": [
    "# create empty df for scoring\n",
    "anskey = pd.DataFrame(columns=['correct_key_resp', 'actual_key_resp', 'assign_codes', 'score'])\n",
    "\n",
    "# set answer key based on order set a few chunks earlier\n",
    "answers =  ['z', 'v', 'v',  'z', 'm', 'z', 'z','v', 'm','v', 'v', 'm']\n",
    "if order == 1:\n",
    "    anskey['correct_key_resp'] = answers\n",
    "elif order == 2:\n",
    "    anskey['correct_key_resp'] = answers[::-1]"
   ]
  },
  {
   "attachments": {},
   "cell_type": "markdown",
   "metadata": {},
   "source": [
    "### Combine participant answers with answer key"
   ]
  },
  {
   "cell_type": "code",
   "execution_count": 53,
   "metadata": {},
   "outputs": [],
   "source": [
    "anskey['actual_key_resp'] = list(d['key_resp.keys'][5:29].dropna())"
   ]
  },
  {
   "attachments": {},
   "cell_type": "markdown",
   "metadata": {},
   "source": [
    "### Score individual responses"
   ]
  },
  {
   "cell_type": "code",
   "execution_count": 55,
   "metadata": {},
   "outputs": [
    {
     "name": "stdout",
     "output_type": "stream",
     "text": [
      "The score is 0.4166666666666667.\n"
     ]
    },
    {
     "name": "stderr",
     "output_type": "stream",
     "text": [
      "C:\\Users\\jdecke5\\AppData\\Local\\Temp\\ipykernel_8100\\459853575.py:4: SettingWithCopyWarning: \n",
      "A value is trying to be set on a copy of a slice from a DataFrame\n",
      "\n",
      "See the caveats in the documentation: https://pandas.pydata.org/pandas-docs/stable/user_guide/indexing.html#returning-a-view-versus-a-copy\n",
      "  anskey['assign_codes'][i] = 1\n",
      "C:\\Users\\jdecke5\\AppData\\Local\\Temp\\ipykernel_8100\\459853575.py:6: SettingWithCopyWarning: \n",
      "A value is trying to be set on a copy of a slice from a DataFrame\n",
      "\n",
      "See the caveats in the documentation: https://pandas.pydata.org/pandas-docs/stable/user_guide/indexing.html#returning-a-view-versus-a-copy\n",
      "  anskey['assign_codes'][i] = 0\n",
      "C:\\Users\\jdecke5\\AppData\\Local\\Temp\\ipykernel_8100\\459853575.py:4: SettingWithCopyWarning: \n",
      "A value is trying to be set on a copy of a slice from a DataFrame\n",
      "\n",
      "See the caveats in the documentation: https://pandas.pydata.org/pandas-docs/stable/user_guide/indexing.html#returning-a-view-versus-a-copy\n",
      "  anskey['assign_codes'][i] = 1\n",
      "C:\\Users\\jdecke5\\AppData\\Local\\Temp\\ipykernel_8100\\459853575.py:6: SettingWithCopyWarning: \n",
      "A value is trying to be set on a copy of a slice from a DataFrame\n",
      "\n",
      "See the caveats in the documentation: https://pandas.pydata.org/pandas-docs/stable/user_guide/indexing.html#returning-a-view-versus-a-copy\n",
      "  anskey['assign_codes'][i] = 0\n",
      "C:\\Users\\jdecke5\\AppData\\Local\\Temp\\ipykernel_8100\\459853575.py:6: SettingWithCopyWarning: \n",
      "A value is trying to be set on a copy of a slice from a DataFrame\n",
      "\n",
      "See the caveats in the documentation: https://pandas.pydata.org/pandas-docs/stable/user_guide/indexing.html#returning-a-view-versus-a-copy\n",
      "  anskey['assign_codes'][i] = 0\n",
      "C:\\Users\\jdecke5\\AppData\\Local\\Temp\\ipykernel_8100\\459853575.py:6: SettingWithCopyWarning: \n",
      "A value is trying to be set on a copy of a slice from a DataFrame\n",
      "\n",
      "See the caveats in the documentation: https://pandas.pydata.org/pandas-docs/stable/user_guide/indexing.html#returning-a-view-versus-a-copy\n",
      "  anskey['assign_codes'][i] = 0\n",
      "C:\\Users\\jdecke5\\AppData\\Local\\Temp\\ipykernel_8100\\459853575.py:4: SettingWithCopyWarning: \n",
      "A value is trying to be set on a copy of a slice from a DataFrame\n",
      "\n",
      "See the caveats in the documentation: https://pandas.pydata.org/pandas-docs/stable/user_guide/indexing.html#returning-a-view-versus-a-copy\n",
      "  anskey['assign_codes'][i] = 1\n",
      "C:\\Users\\jdecke5\\AppData\\Local\\Temp\\ipykernel_8100\\459853575.py:4: SettingWithCopyWarning: \n",
      "A value is trying to be set on a copy of a slice from a DataFrame\n",
      "\n",
      "See the caveats in the documentation: https://pandas.pydata.org/pandas-docs/stable/user_guide/indexing.html#returning-a-view-versus-a-copy\n",
      "  anskey['assign_codes'][i] = 1\n",
      "C:\\Users\\jdecke5\\AppData\\Local\\Temp\\ipykernel_8100\\459853575.py:6: SettingWithCopyWarning: \n",
      "A value is trying to be set on a copy of a slice from a DataFrame\n",
      "\n",
      "See the caveats in the documentation: https://pandas.pydata.org/pandas-docs/stable/user_guide/indexing.html#returning-a-view-versus-a-copy\n",
      "  anskey['assign_codes'][i] = 0\n",
      "C:\\Users\\jdecke5\\AppData\\Local\\Temp\\ipykernel_8100\\459853575.py:6: SettingWithCopyWarning: \n",
      "A value is trying to be set on a copy of a slice from a DataFrame\n",
      "\n",
      "See the caveats in the documentation: https://pandas.pydata.org/pandas-docs/stable/user_guide/indexing.html#returning-a-view-versus-a-copy\n",
      "  anskey['assign_codes'][i] = 0\n",
      "C:\\Users\\jdecke5\\AppData\\Local\\Temp\\ipykernel_8100\\459853575.py:6: SettingWithCopyWarning: \n",
      "A value is trying to be set on a copy of a slice from a DataFrame\n",
      "\n",
      "See the caveats in the documentation: https://pandas.pydata.org/pandas-docs/stable/user_guide/indexing.html#returning-a-view-versus-a-copy\n",
      "  anskey['assign_codes'][i] = 0\n",
      "C:\\Users\\jdecke5\\AppData\\Local\\Temp\\ipykernel_8100\\459853575.py:4: SettingWithCopyWarning: \n",
      "A value is trying to be set on a copy of a slice from a DataFrame\n",
      "\n",
      "See the caveats in the documentation: https://pandas.pydata.org/pandas-docs/stable/user_guide/indexing.html#returning-a-view-versus-a-copy\n",
      "  anskey['assign_codes'][i] = 1\n",
      "C:\\Users\\jdecke5\\AppData\\Local\\Temp\\ipykernel_8100\\459853575.py:9: SettingWithCopyWarning: \n",
      "A value is trying to be set on a copy of a slice from a DataFrame\n",
      "\n",
      "See the caveats in the documentation: https://pandas.pydata.org/pandas-docs/stable/user_guide/indexing.html#returning-a-view-versus-a-copy\n",
      "  anskey['score'][1] = (sum(anskey['assign_codes']))/12;\n"
     ]
    }
   ],
   "source": [
    "# assign codes\n",
    "for i in range(12):\n",
    "    if anskey['correct_key_resp'][i] == anskey['actual_key_resp'][i]:\n",
    "        anskey['assign_codes'][i] = 1\n",
    "    else:\n",
    "        anskey['assign_codes'][i] = 0\n",
    "\n",
    "# get score\n",
    "anskey['score'][1] = (sum(anskey['assign_codes']))/12;\n",
    "\n",
    "# output\n",
    "score= anskey['score'][1];\n",
    "print(f'The score is {score}.')"
   ]
  },
  {
   "attachments": {},
   "cell_type": "markdown",
   "metadata": {},
   "source": [
    "### Integrate scores into participant database"
   ]
  },
  {
   "cell_type": "code",
   "execution_count": 58,
   "metadata": {},
   "outputs": [],
   "source": [
    "# read in database\n",
    "pdb = pd.read_excel('/decker_honors_thesis_paradigm/participant_database.xlsx')"
   ]
  },
  {
   "attachments": {},
   "cell_type": "markdown",
   "metadata": {},
   "source": [
    "### Trying with `scoring_module()`"
   ]
  },
  {
   "cell_type": "code",
   "execution_count": 4,
   "metadata": {},
   "outputs": [
    {
     "name": "stdout",
     "output_type": "stream",
     "text": [
      "Ttest_1sampResult(statistic=nan, pvalue=nan)\n"
     ]
    },
    {
     "name": "stderr",
     "output_type": "stream",
     "text": [
      "/Volumes/WILLUSB/decker_honors_thesis_paradigm/Honors-Thesis/scoring/scoring_module.py:194: SettingWithCopyWarning: \n",
      "A value is trying to be set on a copy of a slice from a DataFrame\n",
      "\n",
      "See the caveats in the documentation: https://pandas.pydata.org/pandas-docs/stable/user_guide/indexing.html#returning-a-view-versus-a-copy\n",
      "  pdb['score'][idx] = score\n"
     ]
    }
   ],
   "source": [
    "# imports\n",
    "import scoring_module as sm\n",
    "\n",
    "# give it some data\n",
    "# d = '/decker_honors_thesis_paradigm/3afc/data/sub-003_3afc_1.csv' # windows\n",
    "d = '/Volumes/WILLUSB/decker_honors_thesis_paradigm/3afc/data/sub-003_3afc_1.csv' # mac\n",
    "\n",
    "# clean data to prepare for scoring\n",
    "order, df, subid = sm.clean_3afc(d)\n",
    "\n",
    "# create answer key\n",
    "anskey = sm.create_anskey(order)\n",
    "\n",
    "# append participant responses to answer key for comparison\n",
    "anskey = sm.merge_participant_data(df, anskey)\n",
    "\n",
    "# score the data\n",
    "anskey, score = sm.score(anskey)\n",
    "\n",
    "# put scores into participant database for future use\n",
    "# participant_database = '/decker_honors_thesis_paradigm/participant_database.xlsx' # windows\n",
    "participant_database = '/Volumes/WILLUSB/decker_honors_thesis_paradigm/participant_database.xlsx'\n",
    "pdb_scores = sm.manage_scores(score, participant_database, subid)\n",
    "\n",
    "# statistics\n",
    "m = sm.score_stats(pdb_scores)"
   ]
  },
  {
   "cell_type": "code",
   "execution_count": null,
   "metadata": {},
   "outputs": [],
   "source": []
  }
 ],
 "metadata": {
  "kernelspec": {
   "display_name": "Python 3",
   "language": "python",
   "name": "python3"
  },
  "language_info": {
   "codemirror_mode": {
    "name": "ipython",
    "version": 3
   },
   "file_extension": ".py",
   "mimetype": "text/x-python",
   "name": "python",
   "nbconvert_exporter": "python",
   "pygments_lexer": "ipython3",
   "version": "3.10.7"
  },
  "orig_nbformat": 4
 },
 "nbformat": 4,
 "nbformat_minor": 2
}
