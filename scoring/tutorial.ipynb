{
 "cells": [
  {
   "attachments": {},
   "cell_type": "markdown",
   "metadata": {},
   "source": [
    "# Scoring\n",
    "\n",
    "Welcome to the tutorial for how to score participant data from Will Decker's honors thesis project. This procedure makes use of `scoring_module.py`, a custom built module for scoring data generated for this specific project. Despite this, its usability is highly versatile. In this notebook, you will find out exactly how to use the classes, methods and attributes from the scoring module.  "
   ]
  },
  {
   "attachments": {},
   "cell_type": "markdown",
   "metadata": {},
   "source": [
    "## Import\n",
    "To call in the module, you must import it."
   ]
  },
  {
   "cell_type": "code",
   "execution_count": 1,
   "metadata": {},
   "outputs": [],
   "source": [
    "# imports\n",
    "from scoring_module import * # this imports everything from the scoring module"
   ]
  },
  {
   "attachments": {},
   "cell_type": "markdown",
   "metadata": {},
   "source": [
    "## Let's get started!\n",
    "\n",
    "There are a few prelimenary steps to take before you can get to the real data analysis. First, we've got to clean the data and then score it. These two things can be done using the module. "
   ]
  },
  {
   "attachments": {},
   "cell_type": "markdown",
   "metadata": {},
   "source": [
    "1. Set the `Data` class and point it to a directory which contains the data"
   ]
  },
  {
   "cell_type": "code",
   "execution_count": 2,
   "metadata": {},
   "outputs": [],
   "source": [
    "data = Data(path=f\"/Users/{os.getlogin()}/Box Sync/willdecker/LSU Undergrad/Honors-Thesis/experiment/PBRC/data\") "
   ]
  },
  {
   "attachments": {},
   "cell_type": "markdown",
   "metadata": {},
   "source": [
    "2. Now we must give the our new object, `data` some subject IDs to read. Subject IDs are found in the participant database but follow a standard convention of 'sub-[#]'\n",
    "3. We can also use these subject IDs to parse the individual datafiles into discrete entities so that future analyses and cleaning can be done"
   ]
  },
  {
   "cell_type": "code",
   "execution_count": 3,
   "metadata": {},
   "outputs": [
    {
     "data": {
      "text/plain": [
       "Data()"
      ]
     },
     "execution_count": 3,
     "metadata": {},
     "output_type": "execute_result"
    }
   ],
   "source": [
    "data.parse_files() # finds the files based on the subject IDs"
   ]
  },
  {
   "attachments": {},
   "cell_type": "markdown",
   "metadata": {},
   "source": [
    "You can see which files are now a part of the `data` object."
   ]
  },
  {
   "cell_type": "code",
   "execution_count": 4,
   "metadata": {},
   "outputs": [
    {
     "data": {
      "text/html": [
       "<div>\n",
       "<style scoped>\n",
       "    .dataframe tbody tr th:only-of-type {\n",
       "        vertical-align: middle;\n",
       "    }\n",
       "\n",
       "    .dataframe tbody tr th {\n",
       "        vertical-align: top;\n",
       "    }\n",
       "\n",
       "    .dataframe thead th {\n",
       "        text-align: right;\n",
       "    }\n",
       "</style>\n",
       "<table border=\"1\" class=\"dataframe\">\n",
       "  <thead>\n",
       "    <tr style=\"text-align: right;\">\n",
       "      <th></th>\n",
       "      <th>pwd</th>\n",
       "      <th>files</th>\n",
       "    </tr>\n",
       "  </thead>\n",
       "  <tbody>\n",
       "    <tr>\n",
       "      <th>0</th>\n",
       "      <td>/Users/lendlab/Box Sync/willdecker/LSU Undergr...</td>\n",
       "      <td>sub-004_structured.csv</td>\n",
       "    </tr>\n",
       "    <tr>\n",
       "      <th>1</th>\n",
       "      <td>/Users/lendlab/Box Sync/willdecker/LSU Undergr...</td>\n",
       "      <td>sub-002_random.csv</td>\n",
       "    </tr>\n",
       "    <tr>\n",
       "      <th>2</th>\n",
       "      <td>/Users/lendlab/Box Sync/willdecker/LSU Undergr...</td>\n",
       "      <td>sub-003_structured.csv</td>\n",
       "    </tr>\n",
       "    <tr>\n",
       "      <th>3</th>\n",
       "      <td>/Users/lendlab/Box Sync/willdecker/LSU Undergr...</td>\n",
       "      <td>sub-007_structured.csv</td>\n",
       "    </tr>\n",
       "    <tr>\n",
       "      <th>4</th>\n",
       "      <td>/Users/lendlab/Box Sync/willdecker/LSU Undergr...</td>\n",
       "      <td>sub-005_random.csv</td>\n",
       "    </tr>\n",
       "    <tr>\n",
       "      <th>5</th>\n",
       "      <td>/Users/lendlab/Box Sync/willdecker/LSU Undergr...</td>\n",
       "      <td>sub-009_structured.csv</td>\n",
       "    </tr>\n",
       "    <tr>\n",
       "      <th>6</th>\n",
       "      <td>/Users/lendlab/Box Sync/willdecker/LSU Undergr...</td>\n",
       "      <td>sub-001_structured.csv</td>\n",
       "    </tr>\n",
       "    <tr>\n",
       "      <th>7</th>\n",
       "      <td>/Users/lendlab/Box Sync/willdecker/LSU Undergr...</td>\n",
       "      <td>sub-008_random.csv</td>\n",
       "    </tr>\n",
       "    <tr>\n",
       "      <th>8</th>\n",
       "      <td>/Users/lendlab/Box Sync/willdecker/LSU Undergr...</td>\n",
       "      <td>sub-006_random.csv</td>\n",
       "    </tr>\n",
       "    <tr>\n",
       "      <th>9</th>\n",
       "      <td>/Users/lendlab/Box Sync/willdecker/LSU Undergr...</td>\n",
       "      <td>sub-010_random.csv</td>\n",
       "    </tr>\n",
       "  </tbody>\n",
       "</table>\n",
       "</div>"
      ],
      "text/plain": [
       "                                                 pwd                   files\n",
       "0  /Users/lendlab/Box Sync/willdecker/LSU Undergr...  sub-004_structured.csv\n",
       "1  /Users/lendlab/Box Sync/willdecker/LSU Undergr...      sub-002_random.csv\n",
       "2  /Users/lendlab/Box Sync/willdecker/LSU Undergr...  sub-003_structured.csv\n",
       "3  /Users/lendlab/Box Sync/willdecker/LSU Undergr...  sub-007_structured.csv\n",
       "4  /Users/lendlab/Box Sync/willdecker/LSU Undergr...      sub-005_random.csv\n",
       "5  /Users/lendlab/Box Sync/willdecker/LSU Undergr...  sub-009_structured.csv\n",
       "6  /Users/lendlab/Box Sync/willdecker/LSU Undergr...  sub-001_structured.csv\n",
       "7  /Users/lendlab/Box Sync/willdecker/LSU Undergr...      sub-008_random.csv\n",
       "8  /Users/lendlab/Box Sync/willdecker/LSU Undergr...      sub-006_random.csv\n",
       "9  /Users/lendlab/Box Sync/willdecker/LSU Undergr...      sub-010_random.csv"
      ]
     },
     "execution_count": 4,
     "metadata": {},
     "output_type": "execute_result"
    }
   ],
   "source": [
    "data.files"
   ]
  },
  {
   "attachments": {},
   "cell_type": "markdown",
   "metadata": {},
   "source": [
    "4. Now we can score `data`. This will iterate through each file and mark individual responses in the data as correct or incorrect and then output a score"
   ]
  },
  {
   "cell_type": "code",
   "execution_count": 5,
   "metadata": {},
   "outputs": [
    {
     "name": "stderr",
     "output_type": "stream",
     "text": [
      "/Users/lendlab/Box Sync/willdecker/LSU Undergrad/Honors-Thesis/github/Honors-Thesis/scoring/scoring_module.py:85: SettingWithCopyWarning: \n",
      "A value is trying to be set on a copy of a slice from a DataFrame\n",
      "\n",
      "See the caveats in the documentation: https://pandas.pydata.org/pandas-docs/stable/user_guide/indexing.html#returning-a-view-versus-a-copy\n",
      "  anskey['score'][0] = (sum(anskey['assign_codes']))/12;\n",
      "/Users/lendlab/Box Sync/willdecker/LSU Undergrad/Honors-Thesis/github/Honors-Thesis/scoring/scoring_module.py:85: SettingWithCopyWarning: \n",
      "A value is trying to be set on a copy of a slice from a DataFrame\n",
      "\n",
      "See the caveats in the documentation: https://pandas.pydata.org/pandas-docs/stable/user_guide/indexing.html#returning-a-view-versus-a-copy\n",
      "  anskey['score'][0] = (sum(anskey['assign_codes']))/12;\n",
      "/Users/lendlab/Box Sync/willdecker/LSU Undergrad/Honors-Thesis/github/Honors-Thesis/scoring/scoring_module.py:85: SettingWithCopyWarning: \n",
      "A value is trying to be set on a copy of a slice from a DataFrame\n",
      "\n",
      "See the caveats in the documentation: https://pandas.pydata.org/pandas-docs/stable/user_guide/indexing.html#returning-a-view-versus-a-copy\n",
      "  anskey['score'][0] = (sum(anskey['assign_codes']))/12;\n",
      "/Users/lendlab/Box Sync/willdecker/LSU Undergrad/Honors-Thesis/github/Honors-Thesis/scoring/scoring_module.py:85: SettingWithCopyWarning: \n",
      "A value is trying to be set on a copy of a slice from a DataFrame\n",
      "\n",
      "See the caveats in the documentation: https://pandas.pydata.org/pandas-docs/stable/user_guide/indexing.html#returning-a-view-versus-a-copy\n",
      "  anskey['score'][0] = (sum(anskey['assign_codes']))/12;\n",
      "/Users/lendlab/Box Sync/willdecker/LSU Undergrad/Honors-Thesis/github/Honors-Thesis/scoring/scoring_module.py:85: SettingWithCopyWarning: \n",
      "A value is trying to be set on a copy of a slice from a DataFrame\n",
      "\n",
      "See the caveats in the documentation: https://pandas.pydata.org/pandas-docs/stable/user_guide/indexing.html#returning-a-view-versus-a-copy\n",
      "  anskey['score'][0] = (sum(anskey['assign_codes']))/12;\n",
      "/Users/lendlab/Box Sync/willdecker/LSU Undergrad/Honors-Thesis/github/Honors-Thesis/scoring/scoring_module.py:85: SettingWithCopyWarning: \n",
      "A value is trying to be set on a copy of a slice from a DataFrame\n",
      "\n",
      "See the caveats in the documentation: https://pandas.pydata.org/pandas-docs/stable/user_guide/indexing.html#returning-a-view-versus-a-copy\n",
      "  anskey['score'][0] = (sum(anskey['assign_codes']))/12;\n",
      "/Users/lendlab/Box Sync/willdecker/LSU Undergrad/Honors-Thesis/github/Honors-Thesis/scoring/scoring_module.py:85: SettingWithCopyWarning: \n",
      "A value is trying to be set on a copy of a slice from a DataFrame\n",
      "\n",
      "See the caveats in the documentation: https://pandas.pydata.org/pandas-docs/stable/user_guide/indexing.html#returning-a-view-versus-a-copy\n",
      "  anskey['score'][0] = (sum(anskey['assign_codes']))/12;\n",
      "/Users/lendlab/Box Sync/willdecker/LSU Undergrad/Honors-Thesis/github/Honors-Thesis/scoring/scoring_module.py:85: SettingWithCopyWarning: \n",
      "A value is trying to be set on a copy of a slice from a DataFrame\n",
      "\n",
      "See the caveats in the documentation: https://pandas.pydata.org/pandas-docs/stable/user_guide/indexing.html#returning-a-view-versus-a-copy\n",
      "  anskey['score'][0] = (sum(anskey['assign_codes']))/12;\n",
      "/Users/lendlab/Box Sync/willdecker/LSU Undergrad/Honors-Thesis/github/Honors-Thesis/scoring/scoring_module.py:85: SettingWithCopyWarning: \n",
      "A value is trying to be set on a copy of a slice from a DataFrame\n",
      "\n",
      "See the caveats in the documentation: https://pandas.pydata.org/pandas-docs/stable/user_guide/indexing.html#returning-a-view-versus-a-copy\n",
      "  anskey['score'][0] = (sum(anskey['assign_codes']))/12;\n",
      "/Users/lendlab/Box Sync/willdecker/LSU Undergrad/Honors-Thesis/github/Honors-Thesis/scoring/scoring_module.py:85: SettingWithCopyWarning: \n",
      "A value is trying to be set on a copy of a slice from a DataFrame\n",
      "\n",
      "See the caveats in the documentation: https://pandas.pydata.org/pandas-docs/stable/user_guide/indexing.html#returning-a-view-versus-a-copy\n",
      "  anskey['score'][0] = (sum(anskey['assign_codes']))/12;\n"
     ]
    }
   ],
   "source": [
    "data.score();"
   ]
  },
  {
   "attachments": {},
   "cell_type": "markdown",
   "metadata": {},
   "source": [
    "You can view these scores"
   ]
  },
  {
   "cell_type": "code",
   "execution_count": 6,
   "metadata": {},
   "outputs": [
    {
     "data": {
      "text/html": [
       "<div>\n",
       "<style scoped>\n",
       "    .dataframe tbody tr th:only-of-type {\n",
       "        vertical-align: middle;\n",
       "    }\n",
       "\n",
       "    .dataframe tbody tr th {\n",
       "        vertical-align: top;\n",
       "    }\n",
       "\n",
       "    .dataframe thead th {\n",
       "        text-align: right;\n",
       "    }\n",
       "</style>\n",
       "<table border=\"1\" class=\"dataframe\">\n",
       "  <thead>\n",
       "    <tr style=\"text-align: right;\">\n",
       "      <th></th>\n",
       "      <th>random</th>\n",
       "      <th>structured</th>\n",
       "    </tr>\n",
       "  </thead>\n",
       "  <tbody>\n",
       "    <tr>\n",
       "      <th>0</th>\n",
       "      <td>0.333333</td>\n",
       "      <td>0.416667</td>\n",
       "    </tr>\n",
       "    <tr>\n",
       "      <th>1</th>\n",
       "      <td>0.500000</td>\n",
       "      <td>0.500000</td>\n",
       "    </tr>\n",
       "    <tr>\n",
       "      <th>2</th>\n",
       "      <td>0.416667</td>\n",
       "      <td>0.416667</td>\n",
       "    </tr>\n",
       "    <tr>\n",
       "      <th>3</th>\n",
       "      <td>0.250000</td>\n",
       "      <td>0.583333</td>\n",
       "    </tr>\n",
       "    <tr>\n",
       "      <th>4</th>\n",
       "      <td>0.166667</td>\n",
       "      <td>0.416667</td>\n",
       "    </tr>\n",
       "  </tbody>\n",
       "</table>\n",
       "</div>"
      ],
      "text/plain": [
       "     random  structured\n",
       "0  0.333333    0.416667\n",
       "1  0.500000    0.500000\n",
       "2  0.416667    0.416667\n",
       "3  0.250000    0.583333\n",
       "4  0.166667    0.416667"
      ]
     },
     "execution_count": 6,
     "metadata": {},
     "output_type": "execute_result"
    }
   ],
   "source": [
    "data.scores"
   ]
  },
  {
   "attachments": {},
   "cell_type": "markdown",
   "metadata": {},
   "source": [
    "You can also view an individual participant's responses and score"
   ]
  },
  {
   "cell_type": "code",
   "execution_count": 7,
   "metadata": {},
   "outputs": [
    {
     "name": "stderr",
     "output_type": "stream",
     "text": [
      "/Users/lendlab/Box Sync/willdecker/LSU Undergrad/Honors-Thesis/github/Honors-Thesis/scoring/scoring_module.py:134: SettingWithCopyWarning: \n",
      "A value is trying to be set on a copy of a slice from a DataFrame\n",
      "\n",
      "See the caveats in the documentation: https://pandas.pydata.org/pandas-docs/stable/user_guide/indexing.html#returning-a-view-versus-a-copy\n",
      "  anskey['score'][0] = (sum(anskey['assign_codes']))/12;\n"
     ]
    },
    {
     "data": {
      "text/html": [
       "<div>\n",
       "<style scoped>\n",
       "    .dataframe tbody tr th:only-of-type {\n",
       "        vertical-align: middle;\n",
       "    }\n",
       "\n",
       "    .dataframe tbody tr th {\n",
       "        vertical-align: top;\n",
       "    }\n",
       "\n",
       "    .dataframe thead th {\n",
       "        text-align: right;\n",
       "    }\n",
       "</style>\n",
       "<table border=\"1\" class=\"dataframe\">\n",
       "  <thead>\n",
       "    <tr style=\"text-align: right;\">\n",
       "      <th></th>\n",
       "      <th>correct_key_resp</th>\n",
       "      <th>actual_key_resp</th>\n",
       "      <th>assign_codes</th>\n",
       "      <th>score</th>\n",
       "    </tr>\n",
       "  </thead>\n",
       "  <tbody>\n",
       "    <tr>\n",
       "      <th>0</th>\n",
       "      <td>m</td>\n",
       "      <td>z</td>\n",
       "      <td>0</td>\n",
       "      <td>0.166667</td>\n",
       "    </tr>\n",
       "    <tr>\n",
       "      <th>1</th>\n",
       "      <td>v</td>\n",
       "      <td>z</td>\n",
       "      <td>0</td>\n",
       "      <td>NaN</td>\n",
       "    </tr>\n",
       "    <tr>\n",
       "      <th>2</th>\n",
       "      <td>v</td>\n",
       "      <td>m</td>\n",
       "      <td>0</td>\n",
       "      <td>NaN</td>\n",
       "    </tr>\n",
       "    <tr>\n",
       "      <th>3</th>\n",
       "      <td>m</td>\n",
       "      <td>v</td>\n",
       "      <td>0</td>\n",
       "      <td>NaN</td>\n",
       "    </tr>\n",
       "    <tr>\n",
       "      <th>4</th>\n",
       "      <td>v</td>\n",
       "      <td>z</td>\n",
       "      <td>0</td>\n",
       "      <td>NaN</td>\n",
       "    </tr>\n",
       "    <tr>\n",
       "      <th>5</th>\n",
       "      <td>z</td>\n",
       "      <td>z</td>\n",
       "      <td>1</td>\n",
       "      <td>NaN</td>\n",
       "    </tr>\n",
       "    <tr>\n",
       "      <th>6</th>\n",
       "      <td>z</td>\n",
       "      <td>m</td>\n",
       "      <td>0</td>\n",
       "      <td>NaN</td>\n",
       "    </tr>\n",
       "    <tr>\n",
       "      <th>7</th>\n",
       "      <td>m</td>\n",
       "      <td>v</td>\n",
       "      <td>0</td>\n",
       "      <td>NaN</td>\n",
       "    </tr>\n",
       "    <tr>\n",
       "      <th>8</th>\n",
       "      <td>z</td>\n",
       "      <td>m</td>\n",
       "      <td>0</td>\n",
       "      <td>NaN</td>\n",
       "    </tr>\n",
       "    <tr>\n",
       "      <th>9</th>\n",
       "      <td>v</td>\n",
       "      <td>m</td>\n",
       "      <td>0</td>\n",
       "      <td>NaN</td>\n",
       "    </tr>\n",
       "    <tr>\n",
       "      <th>10</th>\n",
       "      <td>v</td>\n",
       "      <td>v</td>\n",
       "      <td>1</td>\n",
       "      <td>NaN</td>\n",
       "    </tr>\n",
       "    <tr>\n",
       "      <th>11</th>\n",
       "      <td>z</td>\n",
       "      <td>m</td>\n",
       "      <td>0</td>\n",
       "      <td>NaN</td>\n",
       "    </tr>\n",
       "  </tbody>\n",
       "</table>\n",
       "</div>"
      ],
      "text/plain": [
       "   correct_key_resp actual_key_resp  assign_codes     score\n",
       "0                 m               z             0  0.166667\n",
       "1                 v               z             0       NaN\n",
       "2                 v               m             0       NaN\n",
       "3                 m               v             0       NaN\n",
       "4                 v               z             0       NaN\n",
       "5                 z               z             1       NaN\n",
       "6                 z               m             0       NaN\n",
       "7                 m               v             0       NaN\n",
       "8                 z               m             0       NaN\n",
       "9                 v               m             0       NaN\n",
       "10                v               v             1       NaN\n",
       "11                z               m             0       NaN"
      ]
     },
     "execution_count": 7,
     "metadata": {},
     "output_type": "execute_result"
    }
   ],
   "source": [
    "data.indiv_score(subid='sub-010')"
   ]
  },
  {
   "cell_type": "markdown",
   "metadata": {},
   "source": [
    "If you need to, you can also remove individual scores. Check out the changes to `data.scores` after I remove a subject."
   ]
  },
  {
   "cell_type": "code",
   "execution_count": 25,
   "metadata": {},
   "outputs": [
    {
     "data": {
      "text/html": [
       "<div>\n",
       "<style scoped>\n",
       "    .dataframe tbody tr th:only-of-type {\n",
       "        vertical-align: middle;\n",
       "    }\n",
       "\n",
       "    .dataframe tbody tr th {\n",
       "        vertical-align: top;\n",
       "    }\n",
       "\n",
       "    .dataframe thead th {\n",
       "        text-align: right;\n",
       "    }\n",
       "</style>\n",
       "<table border=\"1\" class=\"dataframe\">\n",
       "  <thead>\n",
       "    <tr style=\"text-align: right;\">\n",
       "      <th></th>\n",
       "      <th>structured</th>\n",
       "      <th>random</th>\n",
       "    </tr>\n",
       "  </thead>\n",
       "  <tbody>\n",
       "    <tr>\n",
       "      <th>0</th>\n",
       "      <td>0.583333</td>\n",
       "      <td>NaN</td>\n",
       "    </tr>\n",
       "    <tr>\n",
       "      <th>1</th>\n",
       "      <td>0.500000</td>\n",
       "      <td>NaN</td>\n",
       "    </tr>\n",
       "  </tbody>\n",
       "</table>\n",
       "</div>"
      ],
      "text/plain": [
       "   structured random\n",
       "0    0.583333    NaN\n",
       "1    0.500000    NaN"
      ]
     },
     "execution_count": 25,
     "metadata": {},
     "output_type": "execute_result"
    }
   ],
   "source": [
    "data.rm_subs(subids=['sub-002']) # this removes a subject.\n",
    "data.score()\n",
    "data.scores"
   ]
  },
  {
   "cell_type": "markdown",
   "metadata": {},
   "source": [
    "`data.rm_subs` relies on a list data type, so you can remove one score or you can remove multiple with a list of files. But be careful. I have not written anything to add a subject back in. So if you remove a subject accidentally, you will need to re-run the entire code prior to removing the subject. Fortuntately, the code runs very fast."
   ]
  },
  {
   "attachments": {},
   "cell_type": "markdown",
   "metadata": {},
   "source": [
    "## Statistics!\n",
    "\n",
    "Now that we have cleaned the data, it is ready for statistical analysis. There is a class called `Stats` which has two built in statistical tests that are directly relevant to this project and the experiment design: a one sample t-test and a two-samples independent t-test. Below you will see how to compute them using the `Stats` class."
   ]
  },
  {
   "attachments": {},
   "cell_type": "markdown",
   "metadata": {},
   "source": [
    "1. Set the `Stats` class and give it the scores that you computed above"
   ]
  },
  {
   "cell_type": "code",
   "execution_count": 8,
   "metadata": {},
   "outputs": [],
   "source": [
    "stats = Stats(scores=data.scores)"
   ]
  },
  {
   "attachments": {},
   "cell_type": "markdown",
   "metadata": {},
   "source": [
    "2. Now compute your statistics. To do this, there is a method called `Stats.compute()`. There you can specify which test you want. Refer to the docstring:\n",
    "```python\n",
    "Stats.compute.__doc__\n",
    "```\n",
    "for more information on the arguments that this function takes.\n",
    "\n",
    "For now, I will run both built in tests and denote which is which via comments. However, the files which I have chosen actually come from only one condition. So running a two-sample independent t-test will fail. It will be commented out but you should still be able to see how it is done with the module."
   ]
  },
  {
   "cell_type": "code",
   "execution_count": 13,
   "metadata": {},
   "outputs": [],
   "source": [
    "# one-sample  t-test\n",
    "t1 = stats.compute(test=1, mu=0.33)\n",
    "\n",
    "# two-sample independent t-test\n",
    "# t2 = stats.compute(test=2)"
   ]
  },
  {
   "attachments": {},
   "cell_type": "markdown",
   "metadata": {},
   "source": [
    "3. To view the output from the test, you need to call the method `Stats.statistic`"
   ]
  },
  {
   "cell_type": "code",
   "execution_count": 14,
   "metadata": {},
   "outputs": [
    {
     "name": "stdout",
     "output_type": "stream",
     "text": [
      "TtestResult(statistic=4.1, pvalue=0.007426519818900756, df=4)\n"
     ]
    }
   ],
   "source": [
    "# print(t2.statistic)\n",
    "print(t1.statistic)"
   ]
  },
  {
   "attachments": {},
   "cell_type": "markdown",
   "metadata": {},
   "source": [
    "What is great about this object method is that you can use the `data.scores` anywhere. Execute `type(data.scores)`. You will notice that it is a pandas dataframe. You can use this in other statistical tests or for other purposes if you wish. Below I have shown you some other ways `data.scores` can be used, like plotting with `matplotlib`."
   ]
  },
  {
   "cell_type": "code",
   "execution_count": 17,
   "metadata": {},
   "outputs": [
    {
     "data": {
      "text/plain": [
       "Text(0, 0.5, 'score')"
      ]
     },
     "execution_count": 17,
     "metadata": {},
     "output_type": "execute_result"
    },
    {
     "data": {
      "image/png": "[encoded data removed]",
      "text/plain": [
       "<Figure size 640x480 with 1 Axes>"
      ]
     },
     "metadata": {},
     "output_type": "display_data"
    }
   ],
   "source": [
    "import seaborn as sns\n",
    "\n",
    "sns.set_palette(palette=[\"#269947\", \"#3186D6\"])\n",
    "ax = sns.boxplot(data=stats.scores)\n",
    "ax.set_title(\"Structured versus Random Speech\");\n",
    "ax.set_ylabel('score')"
   ]
  },
  {
   "cell_type": "code",
   "execution_count": null,
   "metadata": {},
   "outputs": [],
   "source": []
  }
 ],
 "metadata": {
  "kernelspec": {
   "display_name": "Python 3",
   "language": "python",
   "name": "python3"
  },
  "language_info": {
   "codemirror_mode": {
    "name": "ipython",
    "version": 3
   },
   "file_extension": ".py",
   "mimetype": "text/x-python",
   "name": "python",
   "nbconvert_exporter": "python",
   "pygments_lexer": "ipython3",
   "version": "3.12.1"
  },
  "orig_nbformat": 4
 },
 "nbformat": 4,
 "nbformat_minor": 2
}
