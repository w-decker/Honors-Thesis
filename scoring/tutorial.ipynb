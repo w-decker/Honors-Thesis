{
 "cells": [
  {
   "attachments": {},
   "cell_type": "markdown",
   "metadata": {},
   "source": [
    "# Scoring\n",
    "\n",
    "Welcome to the tutorial for how to score participant data from Will Decker's honors thesis project. This procedure makes use of `scoring_module.py`, a custom built module for scoring data generated for this specific project. Despite this, its usability is highly versatile. In this notebook, you will find out exactly how to use the classes, methods and attributes from the scoring module.  "
   ]
  },
  {
   "attachments": {},
   "cell_type": "markdown",
   "metadata": {},
   "source": [
    "## Import\n",
    "To call in the module, you must import it."
   ]
  },
  {
   "cell_type": "code",
   "execution_count": 1,
   "metadata": {},
   "outputs": [],
   "source": [
    "# imports\n",
    "from scoring_module import * # this imports everything from the scoring module"
   ]
  },
  {
   "attachments": {},
   "cell_type": "markdown",
   "metadata": {},
   "source": [
    "## Let's get started!\n",
    "\n",
    "There are a few prelimenary steps to take before you can get to the real data analysis. First, we've got to clean the data and then score it. These two things can be done using the module. "
   ]
  },
  {
   "attachments": {},
   "cell_type": "markdown",
   "metadata": {},
   "source": [
    "1. Set the `Data` class and point it to a directory which contains the data"
   ]
  },
  {
   "cell_type": "code",
   "execution_count": 27,
   "metadata": {},
   "outputs": [],
   "source": [
    "data = Data(path='/Volumes/WILLUSB/decker_honors_thesis_paradigm/3afc/data/') "
   ]
  },
  {
   "attachments": {},
   "cell_type": "markdown",
   "metadata": {},
   "source": [
    "2. Now we must give the our new object, `data` some subject IDs to read. Subject IDs are found in the participant database but follow a standard convention of 'sub-[#]'\n",
    "3. We can also use these subject IDs to parse the individual datafiles into discrete entities so that future analyses and cleaning can be done"
   ]
  },
  {
   "cell_type": "code",
   "execution_count": 28,
   "metadata": {},
   "outputs": [
    {
     "name": "stdout",
     "output_type": "stream",
     "text": [
      "Looking for more files\n",
      "Looking for more files\n",
      "Looking for more files\n",
      "Looking for more files\n",
      "Looking for more files\n",
      "Looking for more files\n",
      "Looking for more files\n",
      "Looking for more files\n",
      "Looking for more files\n",
      "Looking for more files\n",
      "Looking for more files\n",
      "Looking for more files\n",
      "Looking for more files\n",
      "Looking for more files\n",
      "Looking for more files\n",
      "Looking for more files\n",
      "Looking for more files\n",
      "Looking for more files\n",
      "Looking for more files\n",
      "Looking for more files\n",
      "Looking for more files\n",
      "Looking for more files\n",
      "Looking for more files\n",
      "Looking for more files\n",
      "Looking for more files\n",
      "Looking for more files\n",
      "Looking for more files\n",
      "Looking for more files\n",
      "Looking for more files\n",
      "Looking for more files\n",
      "Looking for more files\n",
      "Looking for more files\n",
      "Looking for more files\n",
      "Looking for more files\n",
      "Looking for more files\n",
      "Looking for more files\n",
      "Looking for more files\n",
      "Looking for more files\n",
      "Looking for more files\n",
      "Looking for more files\n",
      "Looking for more files\n",
      "Looking for more files\n",
      "Looking for more files\n",
      "Looking for more files\n",
      "Looking for more files\n",
      "Looking for more files\n",
      "Looking for more files\n",
      "Looking for more files\n",
      "Looking for more files\n",
      "Looking for more files\n",
      "Looking for more files\n",
      "Looking for more files\n",
      "Looking for more files\n",
      "Looking for more files\n",
      "Looking for more files\n",
      "Looking for more files\n",
      "Looking for more files\n",
      "Looking for more files\n",
      "Looking for more files\n",
      "Looking for more files\n",
      "Looking for more files\n",
      "Looking for more files\n",
      "Looking for more files\n",
      "Looking for more files\n",
      "Looking for more files\n",
      "Looking for more files\n",
      "Looking for more files\n",
      "Looking for more files\n",
      "Looking for more files\n",
      "Looking for more files\n",
      "Looking for more files\n",
      "Looking for more files\n",
      "Looking for more files\n",
      "Looking for more files\n",
      "Looking for more files\n",
      "Looking for more files\n",
      "Looking for more files\n",
      "Looking for more files\n",
      "Looking for more files\n",
      "Looking for more files\n",
      "Looking for more files\n",
      "Looking for more files\n",
      "Looking for more files\n",
      "Looking for more files\n",
      "Looking for more files\n",
      "Looking for more files\n",
      "Looking for more files\n",
      "Looking for more files\n",
      "Looking for more files\n",
      "Looking for more files\n",
      "Looking for more files\n",
      "Looking for more files\n",
      "Looking for more files\n",
      "Looking for more files\n",
      "Looking for more files\n",
      "Looking for more files\n"
     ]
    }
   ],
   "source": [
    "subids = ['sub-001', 'sub-002', 'sub-004'] # \n",
    "data.parse_files(subids=subids) # finds the files based on the subject IDs"
   ]
  },
  {
   "attachments": {},
   "cell_type": "markdown",
   "metadata": {},
   "source": [
    "You can see which files are now a part of the `data` object."
   ]
  },
  {
   "cell_type": "code",
   "execution_count": 29,
   "metadata": {},
   "outputs": [
    {
     "data": {
      "text/plain": [
       "['/Volumes/WILLUSB/decker_honors_thesis_paradigm/3afc/data/sub-001_structured.csv',\n",
       " '/Volumes/WILLUSB/decker_honors_thesis_paradigm/3afc/data/sub-002_structured.csv',\n",
       " '/Volumes/WILLUSB/decker_honors_thesis_paradigm/3afc/data/sub-004_structured.csv']"
      ]
     },
     "execution_count": 29,
     "metadata": {},
     "output_type": "execute_result"
    }
   ],
   "source": [
    "data.files"
   ]
  },
  {
   "attachments": {},
   "cell_type": "markdown",
   "metadata": {},
   "source": [
    "4. Now we need to clean the data up a little bit. PsychoPy (which is used in this project) outputs a lot of erroneous data we will not be looking at."
   ]
  },
  {
   "cell_type": "code",
   "execution_count": 30,
   "metadata": {},
   "outputs": [
    {
     "data": {
      "text/plain": [
       "<scoring_module.Data at 0x16e748ac0>"
      ]
     },
     "execution_count": 30,
     "metadata": {},
     "output_type": "execute_result"
    }
   ],
   "source": [
    "data.clean()"
   ]
  },
  {
   "attachments": {},
   "cell_type": "markdown",
   "metadata": {},
   "source": [
    "5. Now we can score `data`. This will iterate through each file and mark individual responses in the data as correct or incorrect and then output a score"
   ]
  },
  {
   "cell_type": "code",
   "execution_count": 31,
   "metadata": {},
   "outputs": [
    {
     "data": {
      "text/plain": [
       "<scoring_module.Data at 0x16e748ac0>"
      ]
     },
     "execution_count": 31,
     "metadata": {},
     "output_type": "execute_result"
    }
   ],
   "source": [
    "data.score()"
   ]
  },
  {
   "attachments": {},
   "cell_type": "markdown",
   "metadata": {},
   "source": [
    "You can view these scores"
   ]
  },
  {
   "cell_type": "code",
   "execution_count": 32,
   "metadata": {},
   "outputs": [
    {
     "data": {
      "text/html": [
       "<div>\n",
       "<style scoped>\n",
       "    .dataframe tbody tr th:only-of-type {\n",
       "        vertical-align: middle;\n",
       "    }\n",
       "\n",
       "    .dataframe tbody tr th {\n",
       "        vertical-align: top;\n",
       "    }\n",
       "\n",
       "    .dataframe thead th {\n",
       "        text-align: right;\n",
       "    }\n",
       "</style>\n",
       "<table border=\"1\" class=\"dataframe\">\n",
       "  <thead>\n",
       "    <tr style=\"text-align: right;\">\n",
       "      <th></th>\n",
       "      <th>structured</th>\n",
       "      <th>random</th>\n",
       "    </tr>\n",
       "  </thead>\n",
       "  <tbody>\n",
       "    <tr>\n",
       "      <th>0</th>\n",
       "      <td>0.583333</td>\n",
       "      <td>NaN</td>\n",
       "    </tr>\n",
       "    <tr>\n",
       "      <th>1</th>\n",
       "      <td>0.500000</td>\n",
       "      <td>NaN</td>\n",
       "    </tr>\n",
       "    <tr>\n",
       "      <th>2</th>\n",
       "      <td>0.500000</td>\n",
       "      <td>NaN</td>\n",
       "    </tr>\n",
       "  </tbody>\n",
       "</table>\n",
       "</div>"
      ],
      "text/plain": [
       "   structured random\n",
       "0    0.583333    NaN\n",
       "1    0.500000    NaN\n",
       "2    0.500000    NaN"
      ]
     },
     "execution_count": 32,
     "metadata": {},
     "output_type": "execute_result"
    }
   ],
   "source": [
    "data.scores"
   ]
  },
  {
   "attachments": {},
   "cell_type": "markdown",
   "metadata": {},
   "source": [
    "You can also view an individual participant's responses and score"
   ]
  },
  {
   "cell_type": "code",
   "execution_count": 33,
   "metadata": {},
   "outputs": [
    {
     "data": {
      "text/html": [
       "<div>\n",
       "<style scoped>\n",
       "    .dataframe tbody tr th:only-of-type {\n",
       "        vertical-align: middle;\n",
       "    }\n",
       "\n",
       "    .dataframe tbody tr th {\n",
       "        vertical-align: top;\n",
       "    }\n",
       "\n",
       "    .dataframe thead th {\n",
       "        text-align: right;\n",
       "    }\n",
       "</style>\n",
       "<table border=\"1\" class=\"dataframe\">\n",
       "  <thead>\n",
       "    <tr style=\"text-align: right;\">\n",
       "      <th></th>\n",
       "      <th>correct_key_resp</th>\n",
       "      <th>actual_key_resp</th>\n",
       "      <th>assign_codes</th>\n",
       "      <th>score</th>\n",
       "    </tr>\n",
       "  </thead>\n",
       "  <tbody>\n",
       "    <tr>\n",
       "      <th>0</th>\n",
       "      <td>m</td>\n",
       "      <td>z</td>\n",
       "      <td>0</td>\n",
       "      <td>0.5</td>\n",
       "    </tr>\n",
       "    <tr>\n",
       "      <th>1</th>\n",
       "      <td>v</td>\n",
       "      <td>v</td>\n",
       "      <td>1</td>\n",
       "      <td>NaN</td>\n",
       "    </tr>\n",
       "    <tr>\n",
       "      <th>2</th>\n",
       "      <td>v</td>\n",
       "      <td>v</td>\n",
       "      <td>1</td>\n",
       "      <td>NaN</td>\n",
       "    </tr>\n",
       "    <tr>\n",
       "      <th>3</th>\n",
       "      <td>m</td>\n",
       "      <td>v</td>\n",
       "      <td>0</td>\n",
       "      <td>NaN</td>\n",
       "    </tr>\n",
       "    <tr>\n",
       "      <th>4</th>\n",
       "      <td>v</td>\n",
       "      <td>v</td>\n",
       "      <td>1</td>\n",
       "      <td>NaN</td>\n",
       "    </tr>\n",
       "    <tr>\n",
       "      <th>5</th>\n",
       "      <td>z</td>\n",
       "      <td>z</td>\n",
       "      <td>1</td>\n",
       "      <td>NaN</td>\n",
       "    </tr>\n",
       "    <tr>\n",
       "      <th>6</th>\n",
       "      <td>z</td>\n",
       "      <td>v</td>\n",
       "      <td>0</td>\n",
       "      <td>NaN</td>\n",
       "    </tr>\n",
       "    <tr>\n",
       "      <th>7</th>\n",
       "      <td>m</td>\n",
       "      <td>v</td>\n",
       "      <td>0</td>\n",
       "      <td>NaN</td>\n",
       "    </tr>\n",
       "    <tr>\n",
       "      <th>8</th>\n",
       "      <td>z</td>\n",
       "      <td>z</td>\n",
       "      <td>1</td>\n",
       "      <td>NaN</td>\n",
       "    </tr>\n",
       "    <tr>\n",
       "      <th>9</th>\n",
       "      <td>v</td>\n",
       "      <td>z</td>\n",
       "      <td>0</td>\n",
       "      <td>NaN</td>\n",
       "    </tr>\n",
       "    <tr>\n",
       "      <th>10</th>\n",
       "      <td>v</td>\n",
       "      <td>v</td>\n",
       "      <td>1</td>\n",
       "      <td>NaN</td>\n",
       "    </tr>\n",
       "    <tr>\n",
       "      <th>11</th>\n",
       "      <td>z</td>\n",
       "      <td>m</td>\n",
       "      <td>0</td>\n",
       "      <td>NaN</td>\n",
       "    </tr>\n",
       "  </tbody>\n",
       "</table>\n",
       "</div>"
      ],
      "text/plain": [
       "   correct_key_resp actual_key_resp assign_codes score\n",
       "0                 m               z            0   0.5\n",
       "1                 v               v            1   NaN\n",
       "2                 v               v            1   NaN\n",
       "3                 m               v            0   NaN\n",
       "4                 v               v            1   NaN\n",
       "5                 z               z            1   NaN\n",
       "6                 z               v            0   NaN\n",
       "7                 m               v            0   NaN\n",
       "8                 z               z            1   NaN\n",
       "9                 v               z            0   NaN\n",
       "10                v               v            1   NaN\n",
       "11                z               m            0   NaN"
      ]
     },
     "execution_count": 33,
     "metadata": {},
     "output_type": "execute_result"
    }
   ],
   "source": [
    "data.indiv_score(subid='sub-004')"
   ]
  },
  {
   "cell_type": "markdown",
   "metadata": {},
   "source": [
    "If you need to, you can also remove individual scores. Check out the changes to `data.scores` after I remove a subject."
   ]
  },
  {
   "cell_type": "code",
   "execution_count": 25,
   "metadata": {},
   "outputs": [
    {
     "data": {
      "text/html": [
       "<div>\n",
       "<style scoped>\n",
       "    .dataframe tbody tr th:only-of-type {\n",
       "        vertical-align: middle;\n",
       "    }\n",
       "\n",
       "    .dataframe tbody tr th {\n",
       "        vertical-align: top;\n",
       "    }\n",
       "\n",
       "    .dataframe thead th {\n",
       "        text-align: right;\n",
       "    }\n",
       "</style>\n",
       "<table border=\"1\" class=\"dataframe\">\n",
       "  <thead>\n",
       "    <tr style=\"text-align: right;\">\n",
       "      <th></th>\n",
       "      <th>structured</th>\n",
       "      <th>random</th>\n",
       "    </tr>\n",
       "  </thead>\n",
       "  <tbody>\n",
       "    <tr>\n",
       "      <th>0</th>\n",
       "      <td>0.583333</td>\n",
       "      <td>NaN</td>\n",
       "    </tr>\n",
       "    <tr>\n",
       "      <th>1</th>\n",
       "      <td>0.500000</td>\n",
       "      <td>NaN</td>\n",
       "    </tr>\n",
       "  </tbody>\n",
       "</table>\n",
       "</div>"
      ],
      "text/plain": [
       "   structured random\n",
       "0    0.583333    NaN\n",
       "1    0.500000    NaN"
      ]
     },
     "execution_count": 25,
     "metadata": {},
     "output_type": "execute_result"
    }
   ],
   "source": [
    "data.rm_subs(subids=['sub-002']) # this removes a subject.\n",
    "data.score()\n",
    "data.scores"
   ]
  },
  {
   "cell_type": "markdown",
   "metadata": {},
   "source": [
    "`data.rm_subs` relies on a list data type, so you can remove one score or you can remove multiple with a list of files. But be careful. I have not written anything to add a subject back in. So if you remove a subject accidentally, you will need to re-run the entire code prior to removing the subject. Fortuntately, the code runs very fast."
   ]
  },
  {
   "attachments": {},
   "cell_type": "markdown",
   "metadata": {},
   "source": [
    "## Statistics!\n",
    "\n",
    "Now that we have cleaned the data, it is ready for statistical analysis. There is a class called `Stats` which has two built in statistical tests that are directly relevant to this project and the experiment design: a one sample t-test and a two-samples independent t-test. Below you will see how to compute them using the `Stats` class."
   ]
  },
  {
   "attachments": {},
   "cell_type": "markdown",
   "metadata": {},
   "source": [
    "1. Set the `Stats` class and give it the scores that you computed above"
   ]
  },
  {
   "cell_type": "code",
   "execution_count": 9,
   "metadata": {},
   "outputs": [],
   "source": [
    "stats = Stats(scores=data.scores)"
   ]
  },
  {
   "attachments": {},
   "cell_type": "markdown",
   "metadata": {},
   "source": [
    "2. Now compute your statistics. To do this, there is a method called `Stats.compute()`. There you can specify which test you want. Refer to the docstring:\n",
    "```python\n",
    "Stats.compute.__doc__\n",
    "```\n",
    "for more information on the arguments that this function takes.\n",
    "\n",
    "For now, I will run both built in tests and denote which is which via comments. However, the files which I have chosen actually come from only one condition. So running a two-sample independent t-test will fail. It will be commented out but you should still be able to see how it is done with the module."
   ]
  },
  {
   "cell_type": "code",
   "execution_count": 13,
   "metadata": {},
   "outputs": [],
   "source": [
    "# one-sample  t-test\n",
    "t1 = stats.compute(test=1, mu=0.33)\n",
    "\n",
    "# two-sample independent t-test\n",
    "# t2 = stats.compute(test=2)"
   ]
  },
  {
   "attachments": {},
   "cell_type": "markdown",
   "metadata": {},
   "source": [
    "3. To view the output from the test, you need to call the method `Stats.statistic`"
   ]
  },
  {
   "cell_type": "code",
   "execution_count": 14,
   "metadata": {},
   "outputs": [
    {
     "data": {
      "text/plain": [
       "TtestResult(statistic=7.1199999999999966, pvalue=0.009580459523005591, df=2)"
      ]
     },
     "execution_count": 14,
     "metadata": {},
     "output_type": "execute_result"
    }
   ],
   "source": [
    "t1.statistic\n",
    "\n",
    "# t2.statistic"
   ]
  },
  {
   "attachments": {},
   "cell_type": "markdown",
   "metadata": {},
   "source": [
    "What is great about this object method is that you can use the `data.scores` anywhere. Execute `type(data.scores)`. You will notice that it is a pandas dataframe. You can use this in other statistical tests or for other purposes if you wish. Below I have shown you some other ways `data.scores` can be used, like plotting with `matplotlib`."
   ]
  },
  {
   "cell_type": "code",
   "execution_count": 38,
   "metadata": {},
   "outputs": [
    {
     "data": {
      "image/png": "[encoded data removed]",
      "text/plain": [
       "<Figure size 640x480 with 1 Axes>"
      ]
     },
     "metadata": {},
     "output_type": "display_data"
    }
   ],
   "source": [
    "type(data.scores)\n",
    "\n",
    "import matplotlib.pyplot as plt\n",
    "\n",
    "plt.hist(data.scores['structured'], color='green')\n",
    "plt.title('Raw scores')\n",
    "plt.xlabel('Score')\n",
    "plt.ylabel('Frequency')\n",
    "plt.tight_layout\n",
    "plt.show()"
   ]
  }
 ],
 "metadata": {
  "kernelspec": {
   "display_name": "Python 3",
   "language": "python",
   "name": "python3"
  },
  "language_info": {
   "codemirror_mode": {
    "name": "ipython",
    "version": 3
   },
   "file_extension": ".py",
   "mimetype": "text/x-python",
   "name": "python",
   "nbconvert_exporter": "python",
   "pygments_lexer": "ipython3",
   "version": "3.10.7"
  },
  "orig_nbformat": 4
 },
 "nbformat": 4,
 "nbformat_minor": 2
}
